{
 "cells": [
  {
   "cell_type": "code",
   "execution_count": 7,
   "metadata": {},
   "outputs": [],
   "source": [
    "import pandas as pd\n",
    "import numpy as np\n",
    "\n",
    "PATH_READ = \"./Hierarchical_data_cc/Train_Test.csv\"\n",
    "PATH_SAVE_TRAIN = \"./Hierarchical_data_cc/train.csv\"\n",
    "PATH_SAVE_TEST =  \"./Hierarchical_data_cc/test.csv\""
   ]
  },
  {
   "cell_type": "code",
   "execution_count": 8,
   "metadata": {},
   "outputs": [],
   "source": [
    "raw_dataset = pd.read_csv(PATH_READ)\n",
    "dataset = raw_dataset.copy()\n",
    "dataset.pop(\"customer_id\")\n",
    "dataset.pop(\"tank_type_id\")\n",
    "dataset.pop(\"sum\")\n",
    "dataset.pop(\"mean\")\n",
    "date_time = pd.to_datetime(dataset.pop(\"supplied_at\"), format=\"%Y-%m-%d %X\")\n",
    "timestamp_s = date_time.map(pd.Timestamp.timestamp)\n",
    "day = 24*60*60\n",
    "year = (365.2425)*day\n",
    "\n",
    "dataset['Year sin'] = np.sin(timestamp_s * (2 * np.pi / year))\n",
    "dataset['Year cos'] = np.cos(timestamp_s * (2 * np.pi / year))\n",
    "\n",
    "\n",
    "\n",
    "train_dataset = dataset.sample(frac=0.8,random_state=0)\n",
    "test_dataset = dataset.drop(train_dataset.index)\n",
    "train_dataset.to_csv(PATH_SAVE_TRAIN, index=False)\n",
    "test_dataset.to_csv(PATH_SAVE_TEST, index=False)\n"
   ]
  },
  {
   "cell_type": "code",
   "execution_count": null,
   "metadata": {},
   "outputs": [],
   "source": [
    "\n"
   ]
  }
 ],
 "metadata": {
  "interpreter": {
   "hash": "e3e0e03fb26a205da183a6cc7aec6e944824ad73d44d06969181625c7511a576"
  },
  "kernelspec": {
   "display_name": "Python 3.8.10 64-bit",
   "language": "python",
   "name": "python3"
  },
  "language_info": {
   "codemirror_mode": {
    "name": "ipython",
    "version": 3
   },
   "file_extension": ".py",
   "mimetype": "text/x-python",
   "name": "python",
   "nbconvert_exporter": "python",
   "pygments_lexer": "ipython3",
   "version": "3.8.10"
  },
  "orig_nbformat": 4
 },
 "nbformat": 4,
 "nbformat_minor": 2
}
