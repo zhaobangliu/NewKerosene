{
 "cells": [
  {
   "cell_type": "code",
   "execution_count": 1,
   "metadata": {},
   "outputs": [],
   "source": [
    "# Need to change to the same directory as project. Do not know why\n",
    "import os\n",
    "os.chdir(\"c:\\\\Users\\\\zhaobang\\\\OneDrive\\\\桌面\\\\NewKerosene\")\n",
    "\n",
    "import pandas as pd\n",
    "import numpy as np\n",
    "import matplotlib.pyplot as plt\n",
    "from modules.kerosenePreprocess import Kerosene\n",
    "import modules.DataDrop as DD \n",
    "import modules.clustering as cs\n",
    "from scipy.cluster.hierarchy import fcluster"
   ]
  },
  {
   "cell_type": "code",
   "execution_count": 2,
   "metadata": {},
   "outputs": [
    {
     "name": "stderr",
     "output_type": "stream",
     "text": [
      "c:\\Users\\zhaobang\\AppData\\Local\\Programs\\Python\\Python38\\lib\\site-packages\\pandas\\core\\frame.py:4906: SettingWithCopyWarning: \n",
      "A value is trying to be set on a copy of a slice from a DataFrame\n",
      "\n",
      "See the caveats in the documentation: https://pandas.pydata.org/pandas-docs/stable/user_guide/indexing.html#returning-a-view-versus-a-copy\n",
      "  return super().drop(\n"
     ]
    }
   ],
   "source": [
    "kerosene = Kerosene(\"./raw_data/2-supply-histories-with-sensor.csv\")\n",
    "# some special id to drop. Apporo dont need this\n",
    "kerosene.normal_use.set_index(\"customer_id\", inplace=True)\n",
    "# 1076 and 1069 are tanktype 5 and 6 respectively\n",
    "kerosene.normal_use.drop([666, 663, 650, 1086,725, 614, 775, 799, 1077, 1069, 1076], inplace=True)\n",
    "kerosene.normal_use.reset_index(inplace=True)\n",
    "for i in range(kerosene.normal_use.shape[0]):\n",
    "    if kerosene.normal_use.loc[i, \"volume\"] == 0:\n",
    "        kerosene.normal_use.drop(i, inplace=True)\n",
    "kerosene.normal_use.reset_index(inplace=True)\n",
    "\n",
    "normal_use_in_season = DD.supply_data_drop(kerosene.normal_use.copy())"
   ]
  },
  {
   "cell_type": "code",
   "execution_count": 3,
   "metadata": {},
   "outputs": [],
   "source": [
    "ID_all = pd.unique(normal_use_in_season[\"customer_id\"])\n",
    "normal_use_in_season.pop(\"level_0\")\n",
    "ID_tanktype = []"
   ]
  },
  {
   "cell_type": "code",
   "execution_count": 4,
   "metadata": {},
   "outputs": [
    {
     "data": {
      "text/html": [
       "<div>\n",
       "<style scoped>\n",
       "    .dataframe tbody tr th:only-of-type {\n",
       "        vertical-align: middle;\n",
       "    }\n",
       "\n",
       "    .dataframe tbody tr th {\n",
       "        vertical-align: top;\n",
       "    }\n",
       "\n",
       "    .dataframe thead th {\n",
       "        text-align: right;\n",
       "    }\n",
       "</style>\n",
       "<table border=\"1\" class=\"dataframe\">\n",
       "  <thead>\n",
       "    <tr style=\"text-align: right;\">\n",
       "      <th></th>\n",
       "      <th>customer_id</th>\n",
       "      <th>index</th>\n",
       "      <th>tank_type_id</th>\n",
       "      <th>supplied_at</th>\n",
       "      <th>volume</th>\n",
       "      <th>purpose</th>\n",
       "    </tr>\n",
       "  </thead>\n",
       "  <tbody>\n",
       "    <tr>\n",
       "      <th>0</th>\n",
       "      <td>637</td>\n",
       "      <td>430</td>\n",
       "      <td>1</td>\n",
       "      <td>2016-11-07 06:53:00</td>\n",
       "      <td>302.7</td>\n",
       "      <td>NaN</td>\n",
       "    </tr>\n",
       "    <tr>\n",
       "      <th>1</th>\n",
       "      <td>637</td>\n",
       "      <td>431</td>\n",
       "      <td>1</td>\n",
       "      <td>2016-11-15 06:52:00</td>\n",
       "      <td>226.2</td>\n",
       "      <td>NaN</td>\n",
       "    </tr>\n",
       "    <tr>\n",
       "      <th>2</th>\n",
       "      <td>637</td>\n",
       "      <td>432</td>\n",
       "      <td>1</td>\n",
       "      <td>2016-11-21 05:38:00</td>\n",
       "      <td>187.3</td>\n",
       "      <td>NaN</td>\n",
       "    </tr>\n",
       "    <tr>\n",
       "      <th>3</th>\n",
       "      <td>637</td>\n",
       "      <td>433</td>\n",
       "      <td>1</td>\n",
       "      <td>2016-11-28 06:59:00</td>\n",
       "      <td>273.5</td>\n",
       "      <td>NaN</td>\n",
       "    </tr>\n",
       "    <tr>\n",
       "      <th>4</th>\n",
       "      <td>637</td>\n",
       "      <td>434</td>\n",
       "      <td>1</td>\n",
       "      <td>2016-12-05 07:07:00</td>\n",
       "      <td>222.0</td>\n",
       "      <td>NaN</td>\n",
       "    </tr>\n",
       "  </tbody>\n",
       "</table>\n",
       "</div>"
      ],
      "text/plain": [
       "   customer_id  index  tank_type_id         supplied_at  volume purpose\n",
       "0          637    430             1 2016-11-07 06:53:00   302.7     NaN\n",
       "1          637    431             1 2016-11-15 06:52:00   226.2     NaN\n",
       "2          637    432             1 2016-11-21 05:38:00   187.3     NaN\n",
       "3          637    433             1 2016-11-28 06:59:00   273.5     NaN\n",
       "4          637    434             1 2016-12-05 07:07:00   222.0     NaN"
      ]
     },
     "execution_count": 4,
     "metadata": {},
     "output_type": "execute_result"
    }
   ],
   "source": [
    "normal_use_in_season.head()"
   ]
  },
  {
   "cell_type": "code",
   "execution_count": 5,
   "metadata": {},
   "outputs": [],
   "source": [
    "for i in ID_all:\n",
    "    df_id = normal_use_in_season[normal_use_in_season[\"customer_id\"] == i]\n",
    "    df_id.reset_index(inplace=True)\n",
    "    ID_tanktype.append(df_id.loc[0, \"tank_type_id\"])"
   ]
  },
  {
   "cell_type": "code",
   "execution_count": 6,
   "metadata": {},
   "outputs": [
    {
     "data": {
      "text/plain": [
       "1    89\n",
       "3    25\n",
       "dtype: int64"
      ]
     },
     "execution_count": 6,
     "metadata": {},
     "output_type": "execute_result"
    }
   ],
   "source": [
    "pd.Series(ID_tanktype).value_counts()"
   ]
  },
  {
   "cell_type": "code",
   "execution_count": 7,
   "metadata": {},
   "outputs": [
    {
     "data": {
      "text/html": [
       "<div>\n",
       "<style scoped>\n",
       "    .dataframe tbody tr th:only-of-type {\n",
       "        vertical-align: middle;\n",
       "    }\n",
       "\n",
       "    .dataframe tbody tr th {\n",
       "        vertical-align: top;\n",
       "    }\n",
       "\n",
       "    .dataframe thead th {\n",
       "        text-align: right;\n",
       "    }\n",
       "</style>\n",
       "<table border=\"1\" class=\"dataframe\">\n",
       "  <thead>\n",
       "    <tr style=\"text-align: right;\">\n",
       "      <th></th>\n",
       "      <th>customer_id</th>\n",
       "      <th>index</th>\n",
       "      <th>tank_type_id</th>\n",
       "      <th>supplied_at</th>\n",
       "      <th>volume</th>\n",
       "      <th>purpose</th>\n",
       "    </tr>\n",
       "  </thead>\n",
       "  <tbody>\n",
       "    <tr>\n",
       "      <th>0</th>\n",
       "      <td>637</td>\n",
       "      <td>430</td>\n",
       "      <td>1</td>\n",
       "      <td>2016-11-07 06:53:00</td>\n",
       "      <td>302.7</td>\n",
       "      <td>NaN</td>\n",
       "    </tr>\n",
       "    <tr>\n",
       "      <th>1</th>\n",
       "      <td>637</td>\n",
       "      <td>431</td>\n",
       "      <td>1</td>\n",
       "      <td>2016-11-15 06:52:00</td>\n",
       "      <td>226.2</td>\n",
       "      <td>NaN</td>\n",
       "    </tr>\n",
       "    <tr>\n",
       "      <th>2</th>\n",
       "      <td>637</td>\n",
       "      <td>432</td>\n",
       "      <td>1</td>\n",
       "      <td>2016-11-21 05:38:00</td>\n",
       "      <td>187.3</td>\n",
       "      <td>NaN</td>\n",
       "    </tr>\n",
       "    <tr>\n",
       "      <th>3</th>\n",
       "      <td>637</td>\n",
       "      <td>433</td>\n",
       "      <td>1</td>\n",
       "      <td>2016-11-28 06:59:00</td>\n",
       "      <td>273.5</td>\n",
       "      <td>NaN</td>\n",
       "    </tr>\n",
       "    <tr>\n",
       "      <th>4</th>\n",
       "      <td>637</td>\n",
       "      <td>434</td>\n",
       "      <td>1</td>\n",
       "      <td>2016-12-05 07:07:00</td>\n",
       "      <td>222.0</td>\n",
       "      <td>NaN</td>\n",
       "    </tr>\n",
       "  </tbody>\n",
       "</table>\n",
       "</div>"
      ],
      "text/plain": [
       "   customer_id  index  tank_type_id         supplied_at  volume purpose\n",
       "0          637    430             1 2016-11-07 06:53:00   302.7     NaN\n",
       "1          637    431             1 2016-11-15 06:52:00   226.2     NaN\n",
       "2          637    432             1 2016-11-21 05:38:00   187.3     NaN\n",
       "3          637    433             1 2016-11-28 06:59:00   273.5     NaN\n",
       "4          637    434             1 2016-12-05 07:07:00   222.0     NaN"
      ]
     },
     "execution_count": 7,
     "metadata": {},
     "output_type": "execute_result"
    }
   ],
   "source": [
    "normal_use_in_season.head()"
   ]
  },
  {
   "cell_type": "code",
   "execution_count": 8,
   "metadata": {},
   "outputs": [],
   "source": [
    "id_over = []\n",
    "tankid = []\n",
    "for i in range(len(normal_use_in_season[\"volume\"])):\n",
    "    if normal_use_in_season.loc[i, \"volume\"] > 500:\n",
    "        id_over.append(normal_use_in_season.loc[i, \"customer_id\"])\n",
    "        tankid.append(normal_use_in_season.loc[i, \"tank_type_id\"])\n",
    "id_over_unique = pd.unique(pd.Series(id_over))"
   ]
  },
  {
   "cell_type": "code",
   "execution_count": 9,
   "metadata": {},
   "outputs": [
    {
     "data": {
      "text/plain": [
       "array([ 719,  615,  715,  717,  652, 1045,  750, 1059,  804,  743,  758,\n",
       "        763, 1054,  870,  869,  828,  826], dtype=int64)"
      ]
     },
     "execution_count": 9,
     "metadata": {},
     "output_type": "execute_result"
    }
   ],
   "source": [
    "id_over_unique"
   ]
  },
  {
   "cell_type": "code",
   "execution_count": 11,
   "metadata": {},
   "outputs": [],
   "source": [
    "normal_use_in_season[normal_use_in_season[\"customer_id\"] == 1059].to_csv(\"./unusual_id/1059_over500.csv\")"
   ]
  },
  {
   "cell_type": "code",
   "execution_count": 9,
   "metadata": {},
   "outputs": [],
   "source": [
    "normal_use_in_season.set_index(\"customer_id\", inplace=True)\n",
    "# 1076 and 1069 are tanktype 5 and 6 respectively\n",
    "normal_use_in_season.drop(id_over_unique, inplace=True)\n",
    "normal_use_in_season.reset_index(inplace=True)"
   ]
  },
  {
   "cell_type": "code",
   "execution_count": 10,
   "metadata": {},
   "outputs": [
    {
     "name": "stderr",
     "output_type": "stream",
     "text": [
      "calculate CC: 100%|██████████| 97/97 [04:43<00:00,  2.92s/it]\n",
      "calculate distance matrix: 100%|██████████| 97/97 [03:28<00:00,  2.15s/it]\n"
     ]
    }
   ],
   "source": [
    "distance_matrix, time_data, clusterdata = cs.Calculate_linkageMatrix(normal_use_in_season, \"./raw_data/weather_data.csv\")"
   ]
  },
  {
   "cell_type": "code",
   "execution_count": 11,
   "metadata": {},
   "outputs": [
    {
     "name": "stderr",
     "output_type": "stream",
     "text": [
      "c:\\Users\\zhaobang\\AppData\\Local\\Programs\\Python\\Python38\\lib\\site-packages\\scipy\\cluster\\hierarchy.py:364: ClusterWarning: scipy.cluster: The symmetric non-negative hollow observation matrix looks suspiciously like an uncondensed distance matrix\n",
      "  return linkage(y, method='complete', metric='euclidean')\n"
     ]
    },
    {
     "data": {
      "image/png": "[encoded data removed]",
      "text/plain": [
       "<Figure size 1152x576 with 1 Axes>"
      ]
     },
     "metadata": {
      "needs_background": "light"
     },
     "output_type": "display_data"
    }
   ],
   "source": [
    "linkage_matrix = cs.hierarchical_clustering(distance_matrix, 1)"
   ]
  },
  {
   "cell_type": "code",
   "execution_count": 12,
   "metadata": {},
   "outputs": [],
   "source": [
    "# select maximum number of clusters\n",
    "cluster_labels_3 = fcluster(linkage_matrix, 5, criterion='maxclust')\n",
    "\n",
    "# hand-select an appropriate cut-off on the dendrogram\n",
    "cluster_labels_5 = fcluster(linkage_matrix, 5, criterion='distance')"
   ]
  },
  {
   "cell_type": "code",
   "execution_count": 13,
   "metadata": {},
   "outputs": [
    {
     "name": "stdout",
     "output_type": "stream",
     "text": [
      "[ 1  2  3  4  5  6  7  8  9 10]\n"
     ]
    }
   ],
   "source": [
    "print(np.unique(cluster_labels_5))"
   ]
  },
  {
   "cell_type": "code",
   "execution_count": 15,
   "metadata": {},
   "outputs": [],
   "source": [
    "ALL_ID = list(clusterdata.keys())"
   ]
  },
  {
   "cell_type": "code",
   "execution_count": 18,
   "metadata": {},
   "outputs": [],
   "source": [
    "df_cluster = {\"ID\": ALL_ID, \"Cluster\": cluster_labels_5}\n",
    "df = pd.DataFrame(data=df_cluster)\n",
    "df.to_csv(\"./ClusteringProgram/ClusterData_cc/10_clusters.csv\", index=False)"
   ]
  },
  {
   "cell_type": "code",
   "execution_count": 21,
   "metadata": {},
   "outputs": [],
   "source": [
    "for i in ALL_ID:\n",
    "    clusterdata[i] = pd.Series(clusterdata[i])\n",
    "for i in ALL_ID:\n",
    "    time_data[i] = pd.Series(time_data[i])"
   ]
  },
  {
   "cell_type": "code",
   "execution_count": 22,
   "metadata": {},
   "outputs": [],
   "source": [
    "cc_df =pd.DataFrame.from_dict(clusterdata)\n",
    "cc_time_df = pd.DataFrame.from_dict(time_data)"
   ]
  },
  {
   "cell_type": "code",
   "execution_count": 24,
   "metadata": {},
   "outputs": [],
   "source": [
    "cc_df.to_csv(\"./ClusteringProgram/ClusterData_cc/cc.csv\", index=False)\n",
    "cc_time_df.to_csv(\"./ClusteringProgram/ClusterData_cc/cc_time.csv\", index=False)"
   ]
  },
  {
   "cell_type": "code",
   "execution_count": null,
   "metadata": {},
   "outputs": [],
   "source": []
  }
 ],
 "metadata": {
  "kernelspec": {
   "display_name": "Python 3.8.10 64-bit",
   "language": "python",
   "name": "python3"
  },
  "language_info": {
   "codemirror_mode": {
    "name": "ipython",
    "version": 3
   },
   "file_extension": ".py",
   "mimetype": "text/x-python",
   "name": "python",
   "nbconvert_exporter": "python",
   "pygments_lexer": "ipython3",
   "version": "3.8.10"
  },
  "orig_nbformat": 4,
  "vscode": {
   "interpreter": {
    "hash": "e3e0e03fb26a205da183a6cc7aec6e944824ad73d44d06969181625c7511a576"
   }
  }
 },
 "nbformat": 4,
 "nbformat_minor": 2
}
