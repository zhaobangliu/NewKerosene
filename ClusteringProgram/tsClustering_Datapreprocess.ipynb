{
 "cells": [
  {
   "cell_type": "code",
   "execution_count": 39,
   "metadata": {},
   "outputs": [],
   "source": [
    "import os\n",
    "os.chdir(\"c:\\\\Users\\\\zhaobang\\\\OneDrive\\\\桌面\\\\NewKerosene\")\n",
    "import pandas as pd\n",
    "from modules.kerosenePreprocess import Kerosene\n",
    "import matplotlib.pyplot as plt\n",
    "from modules import drawing as dr\n",
    "from modules import DataDrop as DD\n",
    "import numpy as np\n",
    "\n"
   ]
  },
  {
   "cell_type": "code",
   "execution_count": 40,
   "metadata": {},
   "outputs": [
    {
     "name": "stderr",
     "output_type": "stream",
     "text": [
      "c:\\Users\\zhaobang\\AppData\\Local\\Programs\\Python\\Python38\\lib\\site-packages\\pandas\\core\\frame.py:4906: SettingWithCopyWarning: \n",
      "A value is trying to be set on a copy of a slice from a DataFrame\n",
      "\n",
      "See the caveats in the documentation: https://pandas.pydata.org/pandas-docs/stable/user_guide/indexing.html#returning-a-view-versus-a-copy\n",
      "  return super().drop(\n"
     ]
    }
   ],
   "source": [
    "df_cluster = pd.read_csv(\"./ClusterData/5_clusters.csv\")\n",
    "kerosene = Kerosene(\"./raw_data/2-supply-histories-with-sensor.csv\")\n",
    "# some special id to drop. Apporo dont need this\n",
    "kerosene.normal_use.set_index(\"customer_id\", inplace=True)\n",
    "kerosene.normal_use.drop([666, 663, 650, 1086], inplace=True)\n",
    "kerosene.normal_use.reset_index(inplace=True)\n",
    "for i in range(kerosene.normal_use.shape[0]):\n",
    "    if kerosene.normal_use.loc[i, \"volume\"] == 0:\n",
    "        kerosene.normal_use.drop(i, inplace=True)\n",
    "kerosene.normal_use.reset_index(inplace=True)\n",
    "\n",
    "normal_use_drop = DD.supply_data_drop(kerosene.normal_use.copy())\n",
    "normal_use_drop[\"supplied_at\"] = pd.to_datetime(normal_use_drop[\"supplied_at\"], format=\"%Y-%m-%d %X\")"
   ]
  },
  {
   "cell_type": "code",
   "execution_count": 41,
   "metadata": {},
   "outputs": [],
   "source": [
    "clustering_data = normal_use_drop.copy()"
   ]
  },
  {
   "cell_type": "code",
   "execution_count": 42,
   "metadata": {},
   "outputs": [],
   "source": [
    "item_counts = df_cluster[\"Cluster\"].value_counts()"
   ]
  },
  {
   "cell_type": "code",
   "execution_count": 43,
   "metadata": {},
   "outputs": [
    {
     "data": {
      "text/plain": [
       "Int64Index([1, 2, 3, 5, 4], dtype='int64')"
      ]
     },
     "execution_count": 43,
     "metadata": {},
     "output_type": "execute_result"
    }
   ],
   "source": [
    "item_counts.index"
   ]
  },
  {
   "cell_type": "code",
   "execution_count": 44,
   "metadata": {},
   "outputs": [
    {
     "data": {
      "text/plain": [
       "121"
      ]
     },
     "execution_count": 44,
     "metadata": {},
     "output_type": "execute_result"
    }
   ],
   "source": [
    "len(df_cluster)"
   ]
  },
  {
   "cell_type": "code",
   "execution_count": 45,
   "metadata": {},
   "outputs": [],
   "source": [
    "cluster_df = {}\n",
    "cluster_id = {}\n",
    "for i in item_counts.index:\n",
    "    cluster_df[i] = df_cluster[df_cluster[\"Cluster\"] == i]\n",
    "    cluster_id[i] = list(cluster_df[i][\"ID\"])\n",
    "    \n",
    "    "
   ]
  },
  {
   "cell_type": "code",
   "execution_count": 46,
   "metadata": {},
   "outputs": [
    {
     "data": {
      "text/plain": [
       "1    70\n",
       "2    45\n",
       "3     4\n",
       "5     1\n",
       "4     1\n",
       "Name: Cluster, dtype: int64"
      ]
     },
     "execution_count": 46,
     "metadata": {},
     "output_type": "execute_result"
    }
   ],
   "source": [
    "item_counts"
   ]
  },
  {
   "cell_type": "code",
   "execution_count": 105,
   "metadata": {},
   "outputs": [
    {
     "data": {
      "text/html": [
       "<div>\n",
       "<style scoped>\n",
       "    .dataframe tbody tr th:only-of-type {\n",
       "        vertical-align: middle;\n",
       "    }\n",
       "\n",
       "    .dataframe tbody tr th {\n",
       "        vertical-align: top;\n",
       "    }\n",
       "\n",
       "    .dataframe thead th {\n",
       "        text-align: right;\n",
       "    }\n",
       "</style>\n",
       "<table border=\"1\" class=\"dataframe\">\n",
       "  <thead>\n",
       "    <tr style=\"text-align: right;\">\n",
       "      <th></th>\n",
       "      <th>customer_id</th>\n",
       "      <th>level_0</th>\n",
       "      <th>index</th>\n",
       "      <th>tank_type_id</th>\n",
       "      <th>volume</th>\n",
       "    </tr>\n",
       "  </thead>\n",
       "  <tbody>\n",
       "    <tr>\n",
       "      <th>count</th>\n",
       "      <td>7212.000000</td>\n",
       "      <td>7212.000000</td>\n",
       "      <td>7212.000000</td>\n",
       "      <td>7212.000000</td>\n",
       "      <td>7212.000000</td>\n",
       "    </tr>\n",
       "    <tr>\n",
       "      <th>mean</th>\n",
       "      <td>833.666251</td>\n",
       "      <td>7399.707293</td>\n",
       "      <td>15640.857876</td>\n",
       "      <td>1.408209</td>\n",
       "      <td>242.069038</td>\n",
       "    </tr>\n",
       "    <tr>\n",
       "      <th>std</th>\n",
       "      <td>159.742368</td>\n",
       "      <td>4110.079077</td>\n",
       "      <td>8560.968209</td>\n",
       "      <td>0.877794</td>\n",
       "      <td>111.345315</td>\n",
       "    </tr>\n",
       "    <tr>\n",
       "      <th>min</th>\n",
       "      <td>601.000000</td>\n",
       "      <td>55.000000</td>\n",
       "      <td>430.000000</td>\n",
       "      <td>1.000000</td>\n",
       "      <td>9.100000</td>\n",
       "    </tr>\n",
       "    <tr>\n",
       "      <th>25%</th>\n",
       "      <td>715.000000</td>\n",
       "      <td>4061.750000</td>\n",
       "      <td>8279.750000</td>\n",
       "      <td>1.000000</td>\n",
       "      <td>168.275000</td>\n",
       "    </tr>\n",
       "    <tr>\n",
       "      <th>50%</th>\n",
       "      <td>808.000000</td>\n",
       "      <td>7401.500000</td>\n",
       "      <td>16287.500000</td>\n",
       "      <td>1.000000</td>\n",
       "      <td>219.450000</td>\n",
       "    </tr>\n",
       "    <tr>\n",
       "      <th>75%</th>\n",
       "      <td>1045.000000</td>\n",
       "      <td>11181.250000</td>\n",
       "      <td>23181.250000</td>\n",
       "      <td>1.000000</td>\n",
       "      <td>286.700000</td>\n",
       "    </tr>\n",
       "    <tr>\n",
       "      <th>max</th>\n",
       "      <td>1097.000000</td>\n",
       "      <td>13979.000000</td>\n",
       "      <td>28963.000000</td>\n",
       "      <td>6.000000</td>\n",
       "      <td>1173.300000</td>\n",
       "    </tr>\n",
       "  </tbody>\n",
       "</table>\n",
       "</div>"
      ],
      "text/plain": [
       "       customer_id       level_0         index  tank_type_id       volume\n",
       "count  7212.000000   7212.000000   7212.000000   7212.000000  7212.000000\n",
       "mean    833.666251   7399.707293  15640.857876      1.408209   242.069038\n",
       "std     159.742368   4110.079077   8560.968209      0.877794   111.345315\n",
       "min     601.000000     55.000000    430.000000      1.000000     9.100000\n",
       "25%     715.000000   4061.750000   8279.750000      1.000000   168.275000\n",
       "50%     808.000000   7401.500000  16287.500000      1.000000   219.450000\n",
       "75%    1045.000000  11181.250000  23181.250000      1.000000   286.700000\n",
       "max    1097.000000  13979.000000  28963.000000      6.000000  1173.300000"
      ]
     },
     "execution_count": 105,
     "metadata": {},
     "output_type": "execute_result"
    }
   ],
   "source": [
    "clustering_data.describe()"
   ]
  },
  {
   "cell_type": "code",
   "execution_count": 47,
   "metadata": {},
   "outputs": [],
   "source": [
    "\n",
    "df_cluster_1 = clustering_data[clustering_data[\"customer_id\"].isin(cluster_id[1])]\n",
    "df_cluster_2 = clustering_data[clustering_data[\"customer_id\"].isin(cluster_id[2])]\n",
    "df_cluster_3 = clustering_data[clustering_data[\"customer_id\"].isin(cluster_id[3])]\n",
    "df_cluster_4 = clustering_data[clustering_data[\"customer_id\"].isin(cluster_id[4])]\n",
    "df_cluster_5 = clustering_data[clustering_data[\"customer_id\"].isin(cluster_id[5])]\n",
    "# df_cluster_1.describe()"
   ]
  },
  {
   "cell_type": "code",
   "execution_count": 65,
   "metadata": {},
   "outputs": [],
   "source": [
    "plt.rcParams['figure.figsize'] = [10, 5]"
   ]
  },
  {
   "cell_type": "code",
   "execution_count": 66,
   "metadata": {},
   "outputs": [
    {
     "data": {
      "text/plain": [
       "[637, 615, 660, 620, 715]"
      ]
     },
     "execution_count": 66,
     "metadata": {},
     "output_type": "execute_result"
    }
   ],
   "source": [
    "cluster_id[1][:5]"
   ]
  },
  {
   "cell_type": "code",
   "execution_count": 97,
   "metadata": {},
   "outputs": [
    {
     "data": {
      "text/html": [
       "<div>\n",
       "<style scoped>\n",
       "    .dataframe tbody tr th:only-of-type {\n",
       "        vertical-align: middle;\n",
       "    }\n",
       "\n",
       "    .dataframe tbody tr th {\n",
       "        vertical-align: top;\n",
       "    }\n",
       "\n",
       "    .dataframe thead th {\n",
       "        text-align: right;\n",
       "    }\n",
       "</style>\n",
       "<table border=\"1\" class=\"dataframe\">\n",
       "  <thead>\n",
       "    <tr style=\"text-align: right;\">\n",
       "      <th></th>\n",
       "      <th>customer_id</th>\n",
       "      <th>level_0</th>\n",
       "      <th>index</th>\n",
       "      <th>tank_type_id</th>\n",
       "      <th>volume</th>\n",
       "    </tr>\n",
       "  </thead>\n",
       "  <tbody>\n",
       "    <tr>\n",
       "      <th>count</th>\n",
       "      <td>69.0</td>\n",
       "      <td>69.000000</td>\n",
       "      <td>69.000000</td>\n",
       "      <td>69.0</td>\n",
       "      <td>69.000000</td>\n",
       "    </tr>\n",
       "    <tr>\n",
       "      <th>mean</th>\n",
       "      <td>637.0</td>\n",
       "      <td>93.376812</td>\n",
       "      <td>468.376812</td>\n",
       "      <td>1.0</td>\n",
       "      <td>232.323188</td>\n",
       "    </tr>\n",
       "    <tr>\n",
       "      <th>std</th>\n",
       "      <td>0.0</td>\n",
       "      <td>23.220238</td>\n",
       "      <td>23.220238</td>\n",
       "      <td>0.0</td>\n",
       "      <td>56.720245</td>\n",
       "    </tr>\n",
       "    <tr>\n",
       "      <th>min</th>\n",
       "      <td>637.0</td>\n",
       "      <td>55.000000</td>\n",
       "      <td>430.000000</td>\n",
       "      <td>1.0</td>\n",
       "      <td>101.700000</td>\n",
       "    </tr>\n",
       "    <tr>\n",
       "      <th>25%</th>\n",
       "      <td>637.0</td>\n",
       "      <td>72.000000</td>\n",
       "      <td>447.000000</td>\n",
       "      <td>1.0</td>\n",
       "      <td>188.300000</td>\n",
       "    </tr>\n",
       "    <tr>\n",
       "      <th>50%</th>\n",
       "      <td>637.0</td>\n",
       "      <td>94.000000</td>\n",
       "      <td>469.000000</td>\n",
       "      <td>1.0</td>\n",
       "      <td>244.800000</td>\n",
       "    </tr>\n",
       "    <tr>\n",
       "      <th>75%</th>\n",
       "      <td>637.0</td>\n",
       "      <td>114.000000</td>\n",
       "      <td>489.000000</td>\n",
       "      <td>1.0</td>\n",
       "      <td>273.500000</td>\n",
       "    </tr>\n",
       "    <tr>\n",
       "      <th>max</th>\n",
       "      <td>637.0</td>\n",
       "      <td>131.000000</td>\n",
       "      <td>506.000000</td>\n",
       "      <td>1.0</td>\n",
       "      <td>361.400000</td>\n",
       "    </tr>\n",
       "  </tbody>\n",
       "</table>\n",
       "</div>"
      ],
      "text/plain": [
       "       customer_id     level_0       index  tank_type_id      volume\n",
       "count         69.0   69.000000   69.000000          69.0   69.000000\n",
       "mean         637.0   93.376812  468.376812           1.0  232.323188\n",
       "std            0.0   23.220238   23.220238           0.0   56.720245\n",
       "min          637.0   55.000000  430.000000           1.0  101.700000\n",
       "25%          637.0   72.000000  447.000000           1.0  188.300000\n",
       "50%          637.0   94.000000  469.000000           1.0  244.800000\n",
       "75%          637.0  114.000000  489.000000           1.0  273.500000\n",
       "max          637.0  131.000000  506.000000           1.0  361.400000"
      ]
     },
     "execution_count": 97,
     "metadata": {},
     "output_type": "execute_result"
    }
   ],
   "source": [
    "df_cluster_1[df_cluster_1[\"customer_id\"] == 637].describe()"
   ]
  },
  {
   "cell_type": "code",
   "execution_count": 61,
   "metadata": {},
   "outputs": [
    {
     "data": {
      "text/plain": [
       "[710, 718, 655, 653, 659]"
      ]
     },
     "execution_count": 61,
     "metadata": {},
     "output_type": "execute_result"
    }
   ],
   "source": [
    "cluster_id[2][:5]"
   ]
  },
  {
   "cell_type": "code",
   "execution_count": 100,
   "metadata": {},
   "outputs": [
    {
     "data": {
      "text/html": [
       "<div>\n",
       "<style scoped>\n",
       "    .dataframe tbody tr th:only-of-type {\n",
       "        vertical-align: middle;\n",
       "    }\n",
       "\n",
       "    .dataframe tbody tr th {\n",
       "        vertical-align: top;\n",
       "    }\n",
       "\n",
       "    .dataframe thead th {\n",
       "        text-align: right;\n",
       "    }\n",
       "</style>\n",
       "<table border=\"1\" class=\"dataframe\">\n",
       "  <thead>\n",
       "    <tr style=\"text-align: right;\">\n",
       "      <th></th>\n",
       "      <th>customer_id</th>\n",
       "      <th>level_0</th>\n",
       "      <th>index</th>\n",
       "      <th>tank_type_id</th>\n",
       "      <th>volume</th>\n",
       "    </tr>\n",
       "  </thead>\n",
       "  <tbody>\n",
       "    <tr>\n",
       "      <th>count</th>\n",
       "      <td>7.0</td>\n",
       "      <td>7.000000</td>\n",
       "      <td>7.000000</td>\n",
       "      <td>7.0</td>\n",
       "      <td>7.000000</td>\n",
       "    </tr>\n",
       "    <tr>\n",
       "      <th>mean</th>\n",
       "      <td>655.0</td>\n",
       "      <td>2151.000000</td>\n",
       "      <td>4126.000000</td>\n",
       "      <td>1.0</td>\n",
       "      <td>150.557143</td>\n",
       "    </tr>\n",
       "    <tr>\n",
       "      <th>std</th>\n",
       "      <td>0.0</td>\n",
       "      <td>2.160247</td>\n",
       "      <td>2.160247</td>\n",
       "      <td>0.0</td>\n",
       "      <td>49.429811</td>\n",
       "    </tr>\n",
       "    <tr>\n",
       "      <th>min</th>\n",
       "      <td>655.0</td>\n",
       "      <td>2148.000000</td>\n",
       "      <td>4123.000000</td>\n",
       "      <td>1.0</td>\n",
       "      <td>104.300000</td>\n",
       "    </tr>\n",
       "    <tr>\n",
       "      <th>25%</th>\n",
       "      <td>655.0</td>\n",
       "      <td>2149.500000</td>\n",
       "      <td>4124.500000</td>\n",
       "      <td>1.0</td>\n",
       "      <td>118.450000</td>\n",
       "    </tr>\n",
       "    <tr>\n",
       "      <th>50%</th>\n",
       "      <td>655.0</td>\n",
       "      <td>2151.000000</td>\n",
       "      <td>4126.000000</td>\n",
       "      <td>1.0</td>\n",
       "      <td>133.100000</td>\n",
       "    </tr>\n",
       "    <tr>\n",
       "      <th>75%</th>\n",
       "      <td>655.0</td>\n",
       "      <td>2152.500000</td>\n",
       "      <td>4127.500000</td>\n",
       "      <td>1.0</td>\n",
       "      <td>169.450000</td>\n",
       "    </tr>\n",
       "    <tr>\n",
       "      <th>max</th>\n",
       "      <td>655.0</td>\n",
       "      <td>2154.000000</td>\n",
       "      <td>4129.000000</td>\n",
       "      <td>1.0</td>\n",
       "      <td>240.700000</td>\n",
       "    </tr>\n",
       "  </tbody>\n",
       "</table>\n",
       "</div>"
      ],
      "text/plain": [
       "       customer_id      level_0        index  tank_type_id      volume\n",
       "count          7.0     7.000000     7.000000           7.0    7.000000\n",
       "mean         655.0  2151.000000  4126.000000           1.0  150.557143\n",
       "std            0.0     2.160247     2.160247           0.0   49.429811\n",
       "min          655.0  2148.000000  4123.000000           1.0  104.300000\n",
       "25%          655.0  2149.500000  4124.500000           1.0  118.450000\n",
       "50%          655.0  2151.000000  4126.000000           1.0  133.100000\n",
       "75%          655.0  2152.500000  4127.500000           1.0  169.450000\n",
       "max          655.0  2154.000000  4129.000000           1.0  240.700000"
      ]
     },
     "execution_count": 100,
     "metadata": {},
     "output_type": "execute_result"
    }
   ],
   "source": [
    "df_cluster_2[df_cluster_2[\"customer_id\"] == 655].describe()"
   ]
  },
  {
   "cell_type": "code",
   "execution_count": 62,
   "metadata": {},
   "outputs": [
    {
     "data": {
      "text/plain": [
       "[719, 750, 804, 869]"
      ]
     },
     "execution_count": 62,
     "metadata": {},
     "output_type": "execute_result"
    }
   ],
   "source": [
    "cluster_id[3][:5]"
   ]
  },
  {
   "cell_type": "code",
   "execution_count": 102,
   "metadata": {},
   "outputs": [
    {
     "data": {
      "text/html": [
       "<div>\n",
       "<style scoped>\n",
       "    .dataframe tbody tr th:only-of-type {\n",
       "        vertical-align: middle;\n",
       "    }\n",
       "\n",
       "    .dataframe tbody tr th {\n",
       "        vertical-align: top;\n",
       "    }\n",
       "\n",
       "    .dataframe thead th {\n",
       "        text-align: right;\n",
       "    }\n",
       "</style>\n",
       "<table border=\"1\" class=\"dataframe\">\n",
       "  <thead>\n",
       "    <tr style=\"text-align: right;\">\n",
       "      <th></th>\n",
       "      <th>customer_id</th>\n",
       "      <th>level_0</th>\n",
       "      <th>index</th>\n",
       "      <th>tank_type_id</th>\n",
       "      <th>volume</th>\n",
       "    </tr>\n",
       "  </thead>\n",
       "  <tbody>\n",
       "    <tr>\n",
       "      <th>count</th>\n",
       "      <td>98.0</td>\n",
       "      <td>98.000000</td>\n",
       "      <td>98.000000</td>\n",
       "      <td>98.0</td>\n",
       "      <td>98.000000</td>\n",
       "    </tr>\n",
       "    <tr>\n",
       "      <th>mean</th>\n",
       "      <td>750.0</td>\n",
       "      <td>6697.326531</td>\n",
       "      <td>14763.326531</td>\n",
       "      <td>1.0</td>\n",
       "      <td>393.993878</td>\n",
       "    </tr>\n",
       "    <tr>\n",
       "      <th>std</th>\n",
       "      <td>0.0</td>\n",
       "      <td>34.503780</td>\n",
       "      <td>34.503780</td>\n",
       "      <td>0.0</td>\n",
       "      <td>125.746143</td>\n",
       "    </tr>\n",
       "    <tr>\n",
       "      <th>min</th>\n",
       "      <td>750.0</td>\n",
       "      <td>6639.000000</td>\n",
       "      <td>14705.000000</td>\n",
       "      <td>1.0</td>\n",
       "      <td>109.300000</td>\n",
       "    </tr>\n",
       "    <tr>\n",
       "      <th>25%</th>\n",
       "      <td>750.0</td>\n",
       "      <td>6667.250000</td>\n",
       "      <td>14733.250000</td>\n",
       "      <td>1.0</td>\n",
       "      <td>319.250000</td>\n",
       "    </tr>\n",
       "    <tr>\n",
       "      <th>50%</th>\n",
       "      <td>750.0</td>\n",
       "      <td>6695.500000</td>\n",
       "      <td>14761.500000</td>\n",
       "      <td>1.0</td>\n",
       "      <td>403.300000</td>\n",
       "    </tr>\n",
       "    <tr>\n",
       "      <th>75%</th>\n",
       "      <td>750.0</td>\n",
       "      <td>6724.750000</td>\n",
       "      <td>14790.750000</td>\n",
       "      <td>1.0</td>\n",
       "      <td>485.875000</td>\n",
       "    </tr>\n",
       "    <tr>\n",
       "      <th>max</th>\n",
       "      <td>750.0</td>\n",
       "      <td>6756.000000</td>\n",
       "      <td>14822.000000</td>\n",
       "      <td>1.0</td>\n",
       "      <td>818.200000</td>\n",
       "    </tr>\n",
       "  </tbody>\n",
       "</table>\n",
       "</div>"
      ],
      "text/plain": [
       "       customer_id      level_0         index  tank_type_id      volume\n",
       "count         98.0    98.000000     98.000000          98.0   98.000000\n",
       "mean         750.0  6697.326531  14763.326531           1.0  393.993878\n",
       "std            0.0    34.503780     34.503780           0.0  125.746143\n",
       "min          750.0  6639.000000  14705.000000           1.0  109.300000\n",
       "25%          750.0  6667.250000  14733.250000           1.0  319.250000\n",
       "50%          750.0  6695.500000  14761.500000           1.0  403.300000\n",
       "75%          750.0  6724.750000  14790.750000           1.0  485.875000\n",
       "max          750.0  6756.000000  14822.000000           1.0  818.200000"
      ]
     },
     "execution_count": 102,
     "metadata": {},
     "output_type": "execute_result"
    }
   ],
   "source": [
    "df_cluster_3[df_cluster_3[\"customer_id\"] == 750].describe()"
   ]
  },
  {
   "cell_type": "code",
   "execution_count": 63,
   "metadata": {},
   "outputs": [
    {
     "data": {
      "text/plain": [
       "[1054]"
      ]
     },
     "execution_count": 63,
     "metadata": {},
     "output_type": "execute_result"
    }
   ],
   "source": [
    "cluster_id[4][:5]"
   ]
  },
  {
   "cell_type": "code",
   "execution_count": 103,
   "metadata": {},
   "outputs": [
    {
     "data": {
      "text/html": [
       "<div>\n",
       "<style scoped>\n",
       "    .dataframe tbody tr th:only-of-type {\n",
       "        vertical-align: middle;\n",
       "    }\n",
       "\n",
       "    .dataframe tbody tr th {\n",
       "        vertical-align: top;\n",
       "    }\n",
       "\n",
       "    .dataframe thead th {\n",
       "        text-align: right;\n",
       "    }\n",
       "</style>\n",
       "<table border=\"1\" class=\"dataframe\">\n",
       "  <thead>\n",
       "    <tr style=\"text-align: right;\">\n",
       "      <th></th>\n",
       "      <th>customer_id</th>\n",
       "      <th>level_0</th>\n",
       "      <th>index</th>\n",
       "      <th>tank_type_id</th>\n",
       "      <th>volume</th>\n",
       "    </tr>\n",
       "  </thead>\n",
       "  <tbody>\n",
       "    <tr>\n",
       "      <th>count</th>\n",
       "      <td>154.0</td>\n",
       "      <td>154.000000</td>\n",
       "      <td>154.000000</td>\n",
       "      <td>154.0</td>\n",
       "      <td>154.000000</td>\n",
       "    </tr>\n",
       "    <tr>\n",
       "      <th>mean</th>\n",
       "      <td>1054.0</td>\n",
       "      <td>9520.071429</td>\n",
       "      <td>19792.071429</td>\n",
       "      <td>3.0</td>\n",
       "      <td>465.589610</td>\n",
       "    </tr>\n",
       "    <tr>\n",
       "      <th>std</th>\n",
       "      <td>0.0</td>\n",
       "      <td>50.015175</td>\n",
       "      <td>50.015175</td>\n",
       "      <td>0.0</td>\n",
       "      <td>125.979771</td>\n",
       "    </tr>\n",
       "    <tr>\n",
       "      <th>min</th>\n",
       "      <td>1054.0</td>\n",
       "      <td>9435.000000</td>\n",
       "      <td>19707.000000</td>\n",
       "      <td>3.0</td>\n",
       "      <td>62.700000</td>\n",
       "    </tr>\n",
       "    <tr>\n",
       "      <th>25%</th>\n",
       "      <td>1054.0</td>\n",
       "      <td>9478.250000</td>\n",
       "      <td>19750.250000</td>\n",
       "      <td>3.0</td>\n",
       "      <td>387.675000</td>\n",
       "    </tr>\n",
       "    <tr>\n",
       "      <th>50%</th>\n",
       "      <td>1054.0</td>\n",
       "      <td>9519.500000</td>\n",
       "      <td>19791.500000</td>\n",
       "      <td>3.0</td>\n",
       "      <td>476.500000</td>\n",
       "    </tr>\n",
       "    <tr>\n",
       "      <th>75%</th>\n",
       "      <td>1054.0</td>\n",
       "      <td>9563.750000</td>\n",
       "      <td>19835.750000</td>\n",
       "      <td>3.0</td>\n",
       "      <td>542.000000</td>\n",
       "    </tr>\n",
       "    <tr>\n",
       "      <th>max</th>\n",
       "      <td>1054.0</td>\n",
       "      <td>9605.000000</td>\n",
       "      <td>19877.000000</td>\n",
       "      <td>3.0</td>\n",
       "      <td>827.400000</td>\n",
       "    </tr>\n",
       "  </tbody>\n",
       "</table>\n",
       "</div>"
      ],
      "text/plain": [
       "       customer_id      level_0         index  tank_type_id      volume\n",
       "count        154.0   154.000000    154.000000         154.0  154.000000\n",
       "mean        1054.0  9520.071429  19792.071429           3.0  465.589610\n",
       "std            0.0    50.015175     50.015175           0.0  125.979771\n",
       "min         1054.0  9435.000000  19707.000000           3.0   62.700000\n",
       "25%         1054.0  9478.250000  19750.250000           3.0  387.675000\n",
       "50%         1054.0  9519.500000  19791.500000           3.0  476.500000\n",
       "75%         1054.0  9563.750000  19835.750000           3.0  542.000000\n",
       "max         1054.0  9605.000000  19877.000000           3.0  827.400000"
      ]
     },
     "execution_count": 103,
     "metadata": {},
     "output_type": "execute_result"
    }
   ],
   "source": [
    "df_cluster_4[df_cluster_4[\"customer_id\"] == 1054].describe()"
   ]
  },
  {
   "cell_type": "code",
   "execution_count": 92,
   "metadata": {},
   "outputs": [
    {
     "data": {
      "text/plain": [
       "[1059]"
      ]
     },
     "execution_count": 92,
     "metadata": {},
     "output_type": "execute_result"
    }
   ],
   "source": [
    "cluster_id[5][:5]"
   ]
  },
  {
   "cell_type": "code",
   "execution_count": 104,
   "metadata": {},
   "outputs": [
    {
     "data": {
      "text/html": [
       "<div>\n",
       "<style scoped>\n",
       "    .dataframe tbody tr th:only-of-type {\n",
       "        vertical-align: middle;\n",
       "    }\n",
       "\n",
       "    .dataframe tbody tr th {\n",
       "        vertical-align: top;\n",
       "    }\n",
       "\n",
       "    .dataframe thead th {\n",
       "        text-align: right;\n",
       "    }\n",
       "</style>\n",
       "<table border=\"1\" class=\"dataframe\">\n",
       "  <thead>\n",
       "    <tr style=\"text-align: right;\">\n",
       "      <th></th>\n",
       "      <th>customer_id</th>\n",
       "      <th>level_0</th>\n",
       "      <th>index</th>\n",
       "      <th>tank_type_id</th>\n",
       "      <th>volume</th>\n",
       "    </tr>\n",
       "  </thead>\n",
       "  <tbody>\n",
       "    <tr>\n",
       "      <th>count</th>\n",
       "      <td>31.0</td>\n",
       "      <td>31.000000</td>\n",
       "      <td>31.000000</td>\n",
       "      <td>31.0</td>\n",
       "      <td>31.000000</td>\n",
       "    </tr>\n",
       "    <tr>\n",
       "      <th>mean</th>\n",
       "      <td>1059.0</td>\n",
       "      <td>7123.419355</td>\n",
       "      <td>15843.419355</td>\n",
       "      <td>1.0</td>\n",
       "      <td>747.838710</td>\n",
       "    </tr>\n",
       "    <tr>\n",
       "      <th>std</th>\n",
       "      <td>0.0</td>\n",
       "      <td>13.167572</td>\n",
       "      <td>13.167572</td>\n",
       "      <td>0.0</td>\n",
       "      <td>191.418816</td>\n",
       "    </tr>\n",
       "    <tr>\n",
       "      <th>min</th>\n",
       "      <td>1059.0</td>\n",
       "      <td>7103.000000</td>\n",
       "      <td>15823.000000</td>\n",
       "      <td>1.0</td>\n",
       "      <td>436.700000</td>\n",
       "    </tr>\n",
       "    <tr>\n",
       "      <th>25%</th>\n",
       "      <td>1059.0</td>\n",
       "      <td>7113.500000</td>\n",
       "      <td>15833.500000</td>\n",
       "      <td>1.0</td>\n",
       "      <td>603.750000</td>\n",
       "    </tr>\n",
       "    <tr>\n",
       "      <th>50%</th>\n",
       "      <td>1059.0</td>\n",
       "      <td>7125.000000</td>\n",
       "      <td>15845.000000</td>\n",
       "      <td>1.0</td>\n",
       "      <td>735.300000</td>\n",
       "    </tr>\n",
       "    <tr>\n",
       "      <th>75%</th>\n",
       "      <td>1059.0</td>\n",
       "      <td>7134.500000</td>\n",
       "      <td>15854.500000</td>\n",
       "      <td>1.0</td>\n",
       "      <td>832.450000</td>\n",
       "    </tr>\n",
       "    <tr>\n",
       "      <th>max</th>\n",
       "      <td>1059.0</td>\n",
       "      <td>7144.000000</td>\n",
       "      <td>15864.000000</td>\n",
       "      <td>1.0</td>\n",
       "      <td>1173.300000</td>\n",
       "    </tr>\n",
       "  </tbody>\n",
       "</table>\n",
       "</div>"
      ],
      "text/plain": [
       "       customer_id      level_0         index  tank_type_id       volume\n",
       "count         31.0    31.000000     31.000000          31.0    31.000000\n",
       "mean        1059.0  7123.419355  15843.419355           1.0   747.838710\n",
       "std            0.0    13.167572     13.167572           0.0   191.418816\n",
       "min         1059.0  7103.000000  15823.000000           1.0   436.700000\n",
       "25%         1059.0  7113.500000  15833.500000           1.0   603.750000\n",
       "50%         1059.0  7125.000000  15845.000000           1.0   735.300000\n",
       "75%         1059.0  7134.500000  15854.500000           1.0   832.450000\n",
       "max         1059.0  7144.000000  15864.000000           1.0  1173.300000"
      ]
     },
     "execution_count": 104,
     "metadata": {},
     "output_type": "execute_result"
    }
   ],
   "source": [
    "df_cluster_5[df_cluster_5[\"customer_id\"] == 1059].describe()"
   ]
  },
  {
   "cell_type": "code",
   "execution_count": 106,
   "metadata": {},
   "outputs": [
    {
     "data": {
      "text/html": [
       "<div>\n",
       "<style scoped>\n",
       "    .dataframe tbody tr th:only-of-type {\n",
       "        vertical-align: middle;\n",
       "    }\n",
       "\n",
       "    .dataframe tbody tr th {\n",
       "        vertical-align: top;\n",
       "    }\n",
       "\n",
       "    .dataframe thead th {\n",
       "        text-align: right;\n",
       "    }\n",
       "</style>\n",
       "<table border=\"1\" class=\"dataframe\">\n",
       "  <thead>\n",
       "    <tr style=\"text-align: right;\">\n",
       "      <th></th>\n",
       "      <th>customer_id</th>\n",
       "      <th>level_0</th>\n",
       "      <th>index</th>\n",
       "      <th>tank_type_id</th>\n",
       "      <th>supplied_at</th>\n",
       "      <th>volume</th>\n",
       "      <th>purpose</th>\n",
       "    </tr>\n",
       "  </thead>\n",
       "  <tbody>\n",
       "    <tr>\n",
       "      <th>0</th>\n",
       "      <td>637</td>\n",
       "      <td>55</td>\n",
       "      <td>430</td>\n",
       "      <td>1</td>\n",
       "      <td>2016-11-07 06:53:00</td>\n",
       "      <td>302.7</td>\n",
       "      <td>NaN</td>\n",
       "    </tr>\n",
       "    <tr>\n",
       "      <th>1</th>\n",
       "      <td>637</td>\n",
       "      <td>56</td>\n",
       "      <td>431</td>\n",
       "      <td>1</td>\n",
       "      <td>2016-11-15 06:52:00</td>\n",
       "      <td>226.2</td>\n",
       "      <td>NaN</td>\n",
       "    </tr>\n",
       "    <tr>\n",
       "      <th>2</th>\n",
       "      <td>637</td>\n",
       "      <td>57</td>\n",
       "      <td>432</td>\n",
       "      <td>1</td>\n",
       "      <td>2016-11-21 05:38:00</td>\n",
       "      <td>187.3</td>\n",
       "      <td>NaN</td>\n",
       "    </tr>\n",
       "    <tr>\n",
       "      <th>3</th>\n",
       "      <td>637</td>\n",
       "      <td>58</td>\n",
       "      <td>433</td>\n",
       "      <td>1</td>\n",
       "      <td>2016-11-28 06:59:00</td>\n",
       "      <td>273.5</td>\n",
       "      <td>NaN</td>\n",
       "    </tr>\n",
       "    <tr>\n",
       "      <th>4</th>\n",
       "      <td>637</td>\n",
       "      <td>59</td>\n",
       "      <td>434</td>\n",
       "      <td>1</td>\n",
       "      <td>2016-12-05 07:07:00</td>\n",
       "      <td>222.0</td>\n",
       "      <td>NaN</td>\n",
       "    </tr>\n",
       "  </tbody>\n",
       "</table>\n",
       "</div>"
      ],
      "text/plain": [
       "   customer_id  level_0  index  tank_type_id         supplied_at  volume  \\\n",
       "0          637       55    430             1 2016-11-07 06:53:00   302.7   \n",
       "1          637       56    431             1 2016-11-15 06:52:00   226.2   \n",
       "2          637       57    432             1 2016-11-21 05:38:00   187.3   \n",
       "3          637       58    433             1 2016-11-28 06:59:00   273.5   \n",
       "4          637       59    434             1 2016-12-05 07:07:00   222.0   \n",
       "\n",
       "  purpose  \n",
       "0     NaN  \n",
       "1     NaN  \n",
       "2     NaN  \n",
       "3     NaN  \n",
       "4     NaN  "
      ]
     },
     "execution_count": 106,
     "metadata": {},
     "output_type": "execute_result"
    }
   ],
   "source": [
    "df_cluster_1.head()"
   ]
  },
  {
   "cell_type": "code",
   "execution_count": 107,
   "metadata": {},
   "outputs": [],
   "source": [
    "def save_cluster(cluster, name):\n",
    "    cluster.pop(\"level_0\")\n",
    "    cluster.pop(\"index\")\n",
    "    cluster.to_csv(\"./Hierarchical_data/\" + name + \".csv\", index=False)"
   ]
  },
  {
   "cell_type": "code",
   "execution_count": 108,
   "metadata": {},
   "outputs": [],
   "source": [
    "save_cluster(df_cluster_1, \"cluster_1\")\n",
    "save_cluster(df_cluster_2, \"cluster_2\")\n",
    "save_cluster(df_cluster_3, \"cluster_3\")\n",
    "save_cluster(df_cluster_4, \"cluster_4\")\n",
    "save_cluster(df_cluster_5, \"cluster_5\")"
   ]
  },
  {
   "cell_type": "code",
   "execution_count": null,
   "metadata": {},
   "outputs": [],
   "source": []
  }
 ],
 "metadata": {
  "interpreter": {
   "hash": "e3e0e03fb26a205da183a6cc7aec6e944824ad73d44d06969181625c7511a576"
  },
  "kernelspec": {
   "display_name": "Python 3.8.10 64-bit",
   "language": "python",
   "name": "python3"
  },
  "language_info": {
   "codemirror_mode": {
    "name": "ipython",
    "version": 3
   },
   "file_extension": ".py",
   "mimetype": "text/x-python",
   "name": "python",
   "nbconvert_exporter": "python",
   "pygments_lexer": "ipython3",
   "version": "3.8.10"
  },
  "orig_nbformat": 4
 },
 "nbformat": 4,
 "nbformat_minor": 2
}
