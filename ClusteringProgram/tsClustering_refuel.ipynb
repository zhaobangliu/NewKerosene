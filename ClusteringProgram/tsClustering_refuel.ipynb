{
 "cells": [
  {
   "cell_type": "code",
   "execution_count": 12,
   "metadata": {},
   "outputs": [],
   "source": [
    "import os\n",
    "os.chdir(\"c:\\\\Users\\\\zhaobang\\\\OneDrive\\\\桌面\\\\NewKerosene\")\n",
    "from sktime.datasets import load_italy_power_demand\n",
    "import pandas as pd\n",
    "from sktime.distances import dtw_distance\n",
    "import numpy as np\n",
    "from scipy.cluster.hierarchy import single, complete, average, ward, dendrogram\n",
    "import matplotlib.pyplot as plt\n",
    "from scipy.cluster.hierarchy import fcluster\n",
    "from modules.kerosenePreprocess import Kerosene\n",
    "from modules import DataDrop as DD\n",
    "from tqdm import tqdm,trange\n",
    "\n"
   ]
  },
  {
   "cell_type": "code",
   "execution_count": 13,
   "metadata": {},
   "outputs": [
    {
     "name": "stderr",
     "output_type": "stream",
     "text": [
      "c:\\Users\\zhaobang\\AppData\\Local\\Programs\\Python\\Python38\\lib\\site-packages\\pandas\\core\\frame.py:4906: SettingWithCopyWarning: \n",
      "A value is trying to be set on a copy of a slice from a DataFrame\n",
      "\n",
      "See the caveats in the documentation: https://pandas.pydata.org/pandas-docs/stable/user_guide/indexing.html#returning-a-view-versus-a-copy\n",
      "  return super().drop(\n"
     ]
    }
   ],
   "source": [
    "kerosene = Kerosene(\"./raw_data/2-supply-histories-with-sensor.csv\")\n",
    "# some special id to drop. Apporo dont need this\n",
    "kerosene.normal_use.set_index(\"customer_id\", inplace=True)\n",
    "kerosene.normal_use.drop([666, 663, 650, 1086], inplace=True)\n",
    "kerosene.normal_use.reset_index(inplace=True)\n",
    "for i in range(kerosene.normal_use.shape[0]):\n",
    "    if kerosene.normal_use.loc[i, \"volume\"] == 0:\n",
    "        kerosene.normal_use.drop(i, inplace=True)\n",
    "kerosene.normal_use.reset_index(inplace=True)\n",
    "\n",
    "normal_use_drop = DD.supply_data_drop(kerosene.normal_use.copy())\n",
    "\n",
    "clustering_data = normal_use_drop.copy()"
   ]
  },
  {
   "cell_type": "code",
   "execution_count": 14,
   "metadata": {},
   "outputs": [
    {
     "data": {
      "text/plain": [
       "\"\\ntimestamp_s = date_time.map(pd.Timestamp.timestamp)\\nday = 24*60*60\\nyear = (365.2425)*day\\n\\nclustering_data['Year sin'] = np.sin(timestamp_s * (2 * np.pi / year))\\nclustering_data['Year cos'] = np.cos(timestamp_s * (2 * np.pi / year))\\n\""
      ]
     },
     "execution_count": 14,
     "metadata": {},
     "output_type": "execute_result"
    }
   ],
   "source": [
    "\n",
    "clustering_data.pop(\"tank_type_id\")\n",
    "clustering_data.pop(\"purpose\")\n",
    "date_time = clustering_data.pop(\"supplied_at\")\n",
    "\"\"\"\n",
    "timestamp_s = date_time.map(pd.Timestamp.timestamp)\n",
    "day = 24*60*60\n",
    "year = (365.2425)*day\n",
    "\n",
    "clustering_data['Year sin'] = np.sin(timestamp_s * (2 * np.pi / year))\n",
    "clustering_data['Year cos'] = np.cos(timestamp_s * (2 * np.pi / year))\n",
    "\"\"\""
   ]
  },
  {
   "cell_type": "code",
   "execution_count": 15,
   "metadata": {},
   "outputs": [
    {
     "data": {
      "text/html": [
       "<div>\n",
       "<style scoped>\n",
       "    .dataframe tbody tr th:only-of-type {\n",
       "        vertical-align: middle;\n",
       "    }\n",
       "\n",
       "    .dataframe tbody tr th {\n",
       "        vertical-align: top;\n",
       "    }\n",
       "\n",
       "    .dataframe thead th {\n",
       "        text-align: right;\n",
       "    }\n",
       "</style>\n",
       "<table border=\"1\" class=\"dataframe\">\n",
       "  <thead>\n",
       "    <tr style=\"text-align: right;\">\n",
       "      <th></th>\n",
       "      <th>customer_id</th>\n",
       "      <th>level_0</th>\n",
       "      <th>index</th>\n",
       "      <th>volume</th>\n",
       "    </tr>\n",
       "  </thead>\n",
       "  <tbody>\n",
       "    <tr>\n",
       "      <th>0</th>\n",
       "      <td>637</td>\n",
       "      <td>55</td>\n",
       "      <td>430</td>\n",
       "      <td>302.7</td>\n",
       "    </tr>\n",
       "    <tr>\n",
       "      <th>1</th>\n",
       "      <td>637</td>\n",
       "      <td>56</td>\n",
       "      <td>431</td>\n",
       "      <td>226.2</td>\n",
       "    </tr>\n",
       "    <tr>\n",
       "      <th>2</th>\n",
       "      <td>637</td>\n",
       "      <td>57</td>\n",
       "      <td>432</td>\n",
       "      <td>187.3</td>\n",
       "    </tr>\n",
       "    <tr>\n",
       "      <th>3</th>\n",
       "      <td>637</td>\n",
       "      <td>58</td>\n",
       "      <td>433</td>\n",
       "      <td>273.5</td>\n",
       "    </tr>\n",
       "    <tr>\n",
       "      <th>4</th>\n",
       "      <td>637</td>\n",
       "      <td>59</td>\n",
       "      <td>434</td>\n",
       "      <td>222.0</td>\n",
       "    </tr>\n",
       "  </tbody>\n",
       "</table>\n",
       "</div>"
      ],
      "text/plain": [
       "   customer_id  level_0  index  volume\n",
       "0          637       55    430   302.7\n",
       "1          637       56    431   226.2\n",
       "2          637       57    432   187.3\n",
       "3          637       58    433   273.5\n",
       "4          637       59    434   222.0"
      ]
     },
     "execution_count": 15,
     "metadata": {},
     "output_type": "execute_result"
    }
   ],
   "source": [
    "clustering_data.head()"
   ]
  },
  {
   "cell_type": "code",
   "execution_count": 16,
   "metadata": {},
   "outputs": [
    {
     "data": {
      "text/plain": [
       "0          55\n",
       "1          56\n",
       "2          57\n",
       "3          58\n",
       "4          59\n",
       "        ...  \n",
       "7207    13975\n",
       "7208    13976\n",
       "7209    13977\n",
       "7210    13978\n",
       "7211    13979\n",
       "Name: level_0, Length: 7212, dtype: int64"
      ]
     },
     "execution_count": 16,
     "metadata": {},
     "output_type": "execute_result"
    }
   ],
   "source": [
    "clustering_data.pop(\"index\")\n",
    "clustering_data.pop(\"level_0\")"
   ]
  },
  {
   "cell_type": "code",
   "execution_count": 17,
   "metadata": {},
   "outputs": [],
   "source": [
    "df_id = clustering_data[clustering_data[\"customer_id\"] == 639]"
   ]
  },
  {
   "cell_type": "code",
   "execution_count": 18,
   "metadata": {},
   "outputs": [],
   "source": [
    "ALL_ID = pd.unique(clustering_data[\"customer_id\"])"
   ]
  },
  {
   "cell_type": "code",
   "execution_count": 19,
   "metadata": {},
   "outputs": [
    {
     "data": {
      "text/plain": [
       "121"
      ]
     },
     "execution_count": 19,
     "metadata": {},
     "output_type": "execute_result"
    }
   ],
   "source": [
    "len(ALL_ID)"
   ]
  },
  {
   "cell_type": "code",
   "execution_count": 20,
   "metadata": {},
   "outputs": [],
   "source": [
    "id_df = []"
   ]
  },
  {
   "cell_type": "code",
   "execution_count": 21,
   "metadata": {},
   "outputs": [],
   "source": [
    "for id in ALL_ID:\n",
    "    id_df.append(clustering_data[clustering_data[\"customer_id\"] == id])"
   ]
  },
  {
   "cell_type": "code",
   "execution_count": 22,
   "metadata": {},
   "outputs": [
    {
     "data": {
      "text/html": [
       "<div>\n",
       "<style scoped>\n",
       "    .dataframe tbody tr th:only-of-type {\n",
       "        vertical-align: middle;\n",
       "    }\n",
       "\n",
       "    .dataframe tbody tr th {\n",
       "        vertical-align: top;\n",
       "    }\n",
       "\n",
       "    .dataframe thead th {\n",
       "        text-align: right;\n",
       "    }\n",
       "</style>\n",
       "<table border=\"1\" class=\"dataframe\">\n",
       "  <thead>\n",
       "    <tr style=\"text-align: right;\">\n",
       "      <th></th>\n",
       "      <th>customer_id</th>\n",
       "      <th>volume</th>\n",
       "    </tr>\n",
       "  </thead>\n",
       "  <tbody>\n",
       "    <tr>\n",
       "      <th>69</th>\n",
       "      <td>719</td>\n",
       "      <td>413.9</td>\n",
       "    </tr>\n",
       "    <tr>\n",
       "      <th>70</th>\n",
       "      <td>719</td>\n",
       "      <td>351.2</td>\n",
       "    </tr>\n",
       "    <tr>\n",
       "      <th>71</th>\n",
       "      <td>719</td>\n",
       "      <td>390.4</td>\n",
       "    </tr>\n",
       "    <tr>\n",
       "      <th>72</th>\n",
       "      <td>719</td>\n",
       "      <td>420.1</td>\n",
       "    </tr>\n",
       "    <tr>\n",
       "      <th>73</th>\n",
       "      <td>719</td>\n",
       "      <td>501.9</td>\n",
       "    </tr>\n",
       "    <tr>\n",
       "      <th>...</th>\n",
       "      <td>...</td>\n",
       "      <td>...</td>\n",
       "    </tr>\n",
       "    <tr>\n",
       "      <th>293</th>\n",
       "      <td>719</td>\n",
       "      <td>359.3</td>\n",
       "    </tr>\n",
       "    <tr>\n",
       "      <th>294</th>\n",
       "      <td>719</td>\n",
       "      <td>489.7</td>\n",
       "    </tr>\n",
       "    <tr>\n",
       "      <th>295</th>\n",
       "      <td>719</td>\n",
       "      <td>360.8</td>\n",
       "    </tr>\n",
       "    <tr>\n",
       "      <th>296</th>\n",
       "      <td>719</td>\n",
       "      <td>266.6</td>\n",
       "    </tr>\n",
       "    <tr>\n",
       "      <th>297</th>\n",
       "      <td>719</td>\n",
       "      <td>413.7</td>\n",
       "    </tr>\n",
       "  </tbody>\n",
       "</table>\n",
       "<p>229 rows × 2 columns</p>\n",
       "</div>"
      ],
      "text/plain": [
       "     customer_id  volume\n",
       "69           719   413.9\n",
       "70           719   351.2\n",
       "71           719   390.4\n",
       "72           719   420.1\n",
       "73           719   501.9\n",
       "..           ...     ...\n",
       "293          719   359.3\n",
       "294          719   489.7\n",
       "295          719   360.8\n",
       "296          719   266.6\n",
       "297          719   413.7\n",
       "\n",
       "[229 rows x 2 columns]"
      ]
     },
     "execution_count": 22,
     "metadata": {},
     "output_type": "execute_result"
    }
   ],
   "source": [
    "id_df[1]"
   ]
  },
  {
   "cell_type": "code",
   "execution_count": 23,
   "metadata": {},
   "outputs": [],
   "source": [
    "for i in id_df:\n",
    "    i.pop(\"customer_id\")"
   ]
  },
  {
   "cell_type": "code",
   "execution_count": 24,
   "metadata": {},
   "outputs": [],
   "source": [
    "ar_data = []\n",
    "for i in id_df:\n",
    "    ar_data.append(i.to_numpy())"
   ]
  },
  {
   "cell_type": "code",
   "execution_count": 25,
   "metadata": {},
   "outputs": [
    {
     "data": {
      "text/plain": [
       "121"
      ]
     },
     "execution_count": 25,
     "metadata": {},
     "output_type": "execute_result"
    }
   ],
   "source": [
    "len(ar_data)"
   ]
  },
  {
   "cell_type": "code",
   "execution_count": 26,
   "metadata": {},
   "outputs": [
    {
     "data": {
      "text/plain": [
       "(229, 1)"
      ]
     },
     "execution_count": 26,
     "metadata": {},
     "output_type": "execute_result"
    }
   ],
   "source": [
    "ar_data[1].shape"
   ]
  },
  {
   "cell_type": "code",
   "execution_count": 27,
   "metadata": {},
   "outputs": [
    {
     "data": {
      "text/plain": [
       "numpy.ndarray"
      ]
     },
     "execution_count": 27,
     "metadata": {},
     "output_type": "execute_result"
    }
   ],
   "source": [
    "type(ar_data[1])"
   ]
  },
  {
   "cell_type": "code",
   "execution_count": 28,
   "metadata": {},
   "outputs": [],
   "source": [
    "n_series = len(ar_data)\n",
    "distance_matrix = np.zeros(shape=(n_series, n_series))"
   ]
  },
  {
   "cell_type": "code",
   "execution_count": 29,
   "metadata": {},
   "outputs": [
    {
     "name": "stderr",
     "output_type": "stream",
     "text": [
      "calculate distance matrix: 100%|██████████| 121/121 [13:29<00:00,  6.69s/it]\n"
     ]
    }
   ],
   "source": [
    "# Build distance matrix\n",
    "for i in tqdm(range(n_series), desc='calculate distance matrix: '):\n",
    "    for j in range(n_series):\n",
    "        x = ar_data[i]\n",
    "        y = ar_data[j]\n",
    "        if i != j and distance_matrix[i, j] == 0:\n",
    "            dist = dtw_distance(x, y)\n",
    "            distance_matrix[i, j] = dist\n",
    "            distance_matrix[j, i] = dist"
   ]
  },
  {
   "cell_type": "code",
   "execution_count": 30,
   "metadata": {},
   "outputs": [
    {
     "name": "stderr",
     "output_type": "stream",
     "text": [
      "c:\\Users\\zhaobang\\AppData\\Local\\Programs\\Python\\Python38\\lib\\site-packages\\scipy\\cluster\\hierarchy.py:364: ClusterWarning: scipy.cluster: The symmetric non-negative hollow observation matrix looks suspiciously like an uncondensed distance matrix\n",
      "  return linkage(y, method='complete', metric='euclidean')\n"
     ]
    },
    {
     "data": {
      "image/png": "[encoded data removed]",
      "text/plain": [
       "<Figure size 1152x576 with 1 Axes>"
      ]
     },
     "metadata": {
      "needs_background": "light"
     },
     "output_type": "display_data"
    }
   ],
   "source": [
    "def hierarchical_clustering(dist_mat, method='complete'):\n",
    "    if method == 'complete':\n",
    "        Z = complete(distance_matrix)\n",
    "    if method == 'single':\n",
    "        Z = single(distance_matrix)\n",
    "    if method == 'average':\n",
    "        Z = average(distance_matrix)\n",
    "    if method == 'ward':\n",
    "        Z = ward(distance_matrix)\n",
    "    \n",
    "    fig = plt.figure(figsize=(16, 8))\n",
    "    dn = dendrogram(Z)\n",
    "    plt.title(f\"Dendrogram for {method}-linkage with correlation distance\")\n",
    "    plt.show()\n",
    "    \n",
    "    return Z\n",
    "\n",
    "linkage_matrix = hierarchical_clustering(distance_matrix)"
   ]
  },
  {
   "cell_type": "code",
   "execution_count": 31,
   "metadata": {},
   "outputs": [
    {
     "name": "stdout",
     "output_type": "stream",
     "text": [
      "[1 2]\n",
      "[1 2 3]\n",
      "[1 2 3 4]\n",
      "[1 2 3 4 5]\n"
     ]
    }
   ],
   "source": [
    "from scipy.cluster.hierarchy import fcluster\n",
    "\n",
    "# select maximum number of clusters\n",
    "cluster_labels_2 = fcluster(linkage_matrix, 2, criterion='maxclust')\n",
    "print(np.unique(cluster_labels_2))\n",
    "#>> 4 unique clusters\n",
    "cluster_labels_3 = fcluster(linkage_matrix, 3, criterion='maxclust')\n",
    "print(np.unique(cluster_labels_3))\n",
    "#>> 10 unique clusters\n",
    "cluster_labels_4 = fcluster(linkage_matrix, 4, criterion='maxclust')\n",
    "print(np.unique(cluster_labels_4))\n",
    "cluster_labels_5 = fcluster(linkage_matrix, 5, criterion='maxclust')\n",
    "print(np.unique(cluster_labels_5))\n",
    "\n",
    "# hand-select an appropriate cut-off on the dendrogram\n",
    "# cluster_labels_5 = fcluster(linkage_matrix, 2, criterion='distance')\n",
    "# print(np.unique(cluster_labels_5))\n",
    "#>> 3 unique clusters\n",
    "# cluster_labels_6 = fcluster(linkage_matrix, 2, criterion='distance')\n",
    "# print(np.unique(cluster_labels_6))\n",
    "#>> 2 unique clusters"
   ]
  },
  {
   "cell_type": "code",
   "execution_count": 85,
   "metadata": {},
   "outputs": [],
   "source": [
    "df_cluster = {\"ID\": ALL_ID, \"Cluster\": cluster_labels_4}"
   ]
  },
  {
   "cell_type": "code",
   "execution_count": 36,
   "metadata": {},
   "outputs": [],
   "source": [
    "df = pd.DataFrame(data=df_cluster)"
   ]
  },
  {
   "cell_type": "code",
   "execution_count": 37,
   "metadata": {},
   "outputs": [],
   "source": [
    "df.to_csv(\"./ClusterData/4_clusters.csv\", index=False)"
   ]
  },
  {
   "cell_type": "code",
   "execution_count": 38,
   "metadata": {},
   "outputs": [],
   "source": [
    "df_cluster = {\"ID\": ALL_ID, \"Cluster\": cluster_labels_3}\n",
    "df = pd.DataFrame(data=df_cluster)\n",
    "df.to_csv(\"./ClusterData/3_clusters.csv\", index=False)"
   ]
  },
  {
   "cell_type": "code",
   "execution_count": 39,
   "metadata": {},
   "outputs": [],
   "source": [
    "df_cluster = {\"ID\": ALL_ID, \"Cluster\": cluster_labels_5}\n",
    "df = pd.DataFrame(data=df_cluster)\n",
    "df.to_csv(\"./ClusterData/5_clusters.csv\", index=False)"
   ]
  },
  {
   "cell_type": "code",
   "execution_count": 40,
   "metadata": {},
   "outputs": [],
   "source": [
    "cluster_labels_6 = fcluster(linkage_matrix, 6, criterion='maxclust')\n",
    "df_cluster = {\"ID\": ALL_ID, \"Cluster\": cluster_labels_6}\n",
    "df = pd.DataFrame(data=df_cluster)\n",
    "df.to_csv(\"./ClusterData/6_clusters.csv\", index=False)"
   ]
  },
  {
   "cell_type": "code",
   "execution_count": null,
   "metadata": {},
   "outputs": [],
   "source": [
    "for i in range()"
   ]
  }
 ],
 "metadata": {
  "interpreter": {
   "hash": "e3e0e03fb26a205da183a6cc7aec6e944824ad73d44d06969181625c7511a576"
  },
  "kernelspec": {
   "display_name": "Python 3 (ipykernel)",
   "language": "python",
   "name": "python3"
  },
  "language_info": {
   "codemirror_mode": {
    "name": "ipython",
    "version": 3
   },
   "file_extension": ".py",
   "mimetype": "text/x-python",
   "name": "python",
   "nbconvert_exporter": "python",
   "pygments_lexer": "ipython3",
   "version": "3.8.10"
  }
 },
 "nbformat": 4,
 "nbformat_minor": 2
}
