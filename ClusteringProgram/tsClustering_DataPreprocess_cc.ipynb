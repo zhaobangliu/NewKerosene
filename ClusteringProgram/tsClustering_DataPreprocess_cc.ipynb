{
 "cells": [
  {
   "cell_type": "code",
   "execution_count": 1,
   "metadata": {},
   "outputs": [],
   "source": [
    "import os\n",
    "os.chdir(\"c:\\\\Users\\\\zhaobang\\\\OneDrive\\\\桌面\\\\NewKerosene\")\n",
    "import pandas as pd\n",
    "from modules.kerosenePreprocess import Kerosene\n",
    "import matplotlib.pyplot as plt\n",
    "from modules import drawing as dr\n",
    "from modules import DataDrop as DD\n",
    "import numpy as np"
   ]
  },
  {
   "cell_type": "code",
   "execution_count": 7,
   "metadata": {},
   "outputs": [
    {
     "name": "stderr",
     "output_type": "stream",
     "text": [
      "c:\\Users\\zhaobang\\AppData\\Local\\Programs\\Python\\Python38\\lib\\site-packages\\pandas\\core\\frame.py:4906: SettingWithCopyWarning: \n",
      "A value is trying to be set on a copy of a slice from a DataFrame\n",
      "\n",
      "See the caveats in the documentation: https://pandas.pydata.org/pandas-docs/stable/user_guide/indexing.html#returning-a-view-versus-a-copy\n",
      "  return super().drop(\n"
     ]
    }
   ],
   "source": [
    "df_cluster = pd.read_csv(\"./ClusteringProgram/ClusterData_cc/10_clusters.csv\")\n",
    "kerosene = Kerosene(\"./raw_data/2-supply-histories-with-sensor.csv\")\n",
    "# some special id to drop. Apporo dont need this\n",
    "kerosene.normal_use.set_index(\"customer_id\", inplace=True)\n",
    "kerosene.normal_use.drop([666, 663, 650, 1086,725, 614, 775, 799, 1077, 1069, 1076], inplace=True)\n",
    "kerosene.normal_use.reset_index(inplace=True)\n",
    "for i in range(kerosene.normal_use.shape[0]):\n",
    "    if kerosene.normal_use.loc[i, \"volume\"] == 0:\n",
    "        kerosene.normal_use.drop(i, inplace=True)\n",
    "kerosene.normal_use.reset_index(inplace=True)\n",
    "\n",
    "normal_use_drop = DD.supply_data_drop(kerosene.normal_use.copy())\n",
    "normal_use_drop[\"supplied_at\"] = pd.to_datetime(normal_use_drop[\"supplied_at\"], format=\"%Y-%m-%d %X\")"
   ]
  },
  {
   "cell_type": "code",
   "execution_count": 8,
   "metadata": {},
   "outputs": [],
   "source": [
    "clustering_data = normal_use_drop.copy()\n",
    "item_counts = df_cluster[\"Cluster\"].value_counts()"
   ]
  },
  {
   "cell_type": "code",
   "execution_count": 9,
   "metadata": {},
   "outputs": [
    {
     "data": {
      "text/plain": [
       "Int64Index([2, 3, 4, 5, 6, 1, 7, 10, 8, 9], dtype='int64')"
      ]
     },
     "execution_count": 9,
     "metadata": {},
     "output_type": "execute_result"
    }
   ],
   "source": [
    "item_counts.index"
   ]
  },
  {
   "cell_type": "code",
   "execution_count": 10,
   "metadata": {},
   "outputs": [
    {
     "data": {
      "text/plain": [
       "97"
      ]
     },
     "execution_count": 10,
     "metadata": {},
     "output_type": "execute_result"
    }
   ],
   "source": [
    "len(df_cluster)"
   ]
  },
  {
   "cell_type": "code",
   "execution_count": 11,
   "metadata": {},
   "outputs": [],
   "source": [
    "cluster_df = {}\n",
    "cluster_id = {}\n",
    "for i in item_counts.index:\n",
    "    cluster_df[i] = df_cluster[df_cluster[\"Cluster\"] == i]\n",
    "    cluster_id[i] = list(cluster_df[i][\"ID\"])"
   ]
  },
  {
   "cell_type": "code",
   "execution_count": 12,
   "metadata": {},
   "outputs": [
    {
     "data": {
      "text/html": [
       "<div>\n",
       "<style scoped>\n",
       "    .dataframe tbody tr th:only-of-type {\n",
       "        vertical-align: middle;\n",
       "    }\n",
       "\n",
       "    .dataframe tbody tr th {\n",
       "        vertical-align: top;\n",
       "    }\n",
       "\n",
       "    .dataframe thead th {\n",
       "        text-align: right;\n",
       "    }\n",
       "</style>\n",
       "<table border=\"1\" class=\"dataframe\">\n",
       "  <thead>\n",
       "    <tr style=\"text-align: right;\">\n",
       "      <th></th>\n",
       "      <th>customer_id</th>\n",
       "      <th>level_0</th>\n",
       "      <th>index</th>\n",
       "      <th>tank_type_id</th>\n",
       "      <th>volume</th>\n",
       "    </tr>\n",
       "  </thead>\n",
       "  <tbody>\n",
       "    <tr>\n",
       "      <th>count</th>\n",
       "      <td>6851.000000</td>\n",
       "      <td>6851.000000</td>\n",
       "      <td>6851.000000</td>\n",
       "      <td>6851.000000</td>\n",
       "      <td>6851.000000</td>\n",
       "    </tr>\n",
       "    <tr>\n",
       "      <th>mean</th>\n",
       "      <td>834.947891</td>\n",
       "      <td>7212.909794</td>\n",
       "      <td>15816.710553</td>\n",
       "      <td>1.372792</td>\n",
       "      <td>241.614290</td>\n",
       "    </tr>\n",
       "    <tr>\n",
       "      <th>std</th>\n",
       "      <td>157.640793</td>\n",
       "      <td>3970.147996</td>\n",
       "      <td>8503.729829</td>\n",
       "      <td>0.778909</td>\n",
       "      <td>111.985315</td>\n",
       "    </tr>\n",
       "    <tr>\n",
       "      <th>min</th>\n",
       "      <td>601.000000</td>\n",
       "      <td>55.000000</td>\n",
       "      <td>430.000000</td>\n",
       "      <td>1.000000</td>\n",
       "      <td>9.100000</td>\n",
       "    </tr>\n",
       "    <tr>\n",
       "      <th>25%</th>\n",
       "      <td>717.000000</td>\n",
       "      <td>4143.500000</td>\n",
       "      <td>8717.500000</td>\n",
       "      <td>1.000000</td>\n",
       "      <td>167.800000</td>\n",
       "    </tr>\n",
       "    <tr>\n",
       "      <th>50%</th>\n",
       "      <td>808.000000</td>\n",
       "      <td>7167.000000</td>\n",
       "      <td>16349.000000</td>\n",
       "      <td>1.000000</td>\n",
       "      <td>218.900000</td>\n",
       "    </tr>\n",
       "    <tr>\n",
       "      <th>75%</th>\n",
       "      <td>1044.000000</td>\n",
       "      <td>10851.500000</td>\n",
       "      <td>23147.500000</td>\n",
       "      <td>1.000000</td>\n",
       "      <td>285.050000</td>\n",
       "    </tr>\n",
       "    <tr>\n",
       "      <th>max</th>\n",
       "      <td>1097.000000</td>\n",
       "      <td>13545.000000</td>\n",
       "      <td>28963.000000</td>\n",
       "      <td>3.000000</td>\n",
       "      <td>1173.300000</td>\n",
       "    </tr>\n",
       "  </tbody>\n",
       "</table>\n",
       "</div>"
      ],
      "text/plain": [
       "       customer_id       level_0         index  tank_type_id       volume\n",
       "count  6851.000000   6851.000000   6851.000000   6851.000000  6851.000000\n",
       "mean    834.947891   7212.909794  15816.710553      1.372792   241.614290\n",
       "std     157.640793   3970.147996   8503.729829      0.778909   111.985315\n",
       "min     601.000000     55.000000    430.000000      1.000000     9.100000\n",
       "25%     717.000000   4143.500000   8717.500000      1.000000   167.800000\n",
       "50%     808.000000   7167.000000  16349.000000      1.000000   218.900000\n",
       "75%    1044.000000  10851.500000  23147.500000      1.000000   285.050000\n",
       "max    1097.000000  13545.000000  28963.000000      3.000000  1173.300000"
      ]
     },
     "execution_count": 12,
     "metadata": {},
     "output_type": "execute_result"
    }
   ],
   "source": [
    "clustering_data.describe()"
   ]
  },
  {
   "cell_type": "code",
   "execution_count": 13,
   "metadata": {},
   "outputs": [],
   "source": [
    "df_cluster_1 = clustering_data[clustering_data[\"customer_id\"].isin(cluster_id[1])]\n",
    "df_cluster_2 = clustering_data[clustering_data[\"customer_id\"].isin(cluster_id[2])]\n",
    "df_cluster_3 = clustering_data[clustering_data[\"customer_id\"].isin(cluster_id[3])]\n",
    "df_cluster_4 = clustering_data[clustering_data[\"customer_id\"].isin(cluster_id[4])]\n",
    "df_cluster_5 = clustering_data[clustering_data[\"customer_id\"].isin(cluster_id[5])]\n",
    "df_cluster_6 = clustering_data[clustering_data[\"customer_id\"].isin(cluster_id[6])]\n",
    "df_cluster_7 = clustering_data[clustering_data[\"customer_id\"].isin(cluster_id[7])]\n",
    "df_cluster_8 = clustering_data[clustering_data[\"customer_id\"].isin(cluster_id[8])]\n",
    "df_cluster_9 = clustering_data[clustering_data[\"customer_id\"].isin(cluster_id[9])]\n",
    "df_cluster_10 = clustering_data[clustering_data[\"customer_id\"].isin(cluster_id[10])]"
   ]
  },
  {
   "cell_type": "code",
   "execution_count": 14,
   "metadata": {},
   "outputs": [],
   "source": [
    "def cc_describe(column):\n",
    "    cc_series = pd.Series([], name='courses')"
   ]
  },
  {
   "cell_type": "code",
   "execution_count": 15,
   "metadata": {},
   "outputs": [
    {
     "data": {
      "text/html": [
       "<div>\n",
       "<style scoped>\n",
       "    .dataframe tbody tr th:only-of-type {\n",
       "        vertical-align: middle;\n",
       "    }\n",
       "\n",
       "    .dataframe tbody tr th {\n",
       "        vertical-align: top;\n",
       "    }\n",
       "\n",
       "    .dataframe thead th {\n",
       "        text-align: right;\n",
       "    }\n",
       "</style>\n",
       "<table border=\"1\" class=\"dataframe\">\n",
       "  <thead>\n",
       "    <tr style=\"text-align: right;\">\n",
       "      <th></th>\n",
       "      <th>customer_id</th>\n",
       "      <th>level_0</th>\n",
       "      <th>index</th>\n",
       "      <th>tank_type_id</th>\n",
       "      <th>volume</th>\n",
       "    </tr>\n",
       "  </thead>\n",
       "  <tbody>\n",
       "    <tr>\n",
       "      <th>count</th>\n",
       "      <td>179.000000</td>\n",
       "      <td>179.000000</td>\n",
       "      <td>179.000000</td>\n",
       "      <td>179.0</td>\n",
       "      <td>179.000000</td>\n",
       "    </tr>\n",
       "    <tr>\n",
       "      <th>mean</th>\n",
       "      <td>623.709497</td>\n",
       "      <td>3986.173184</td>\n",
       "      <td>8810.201117</td>\n",
       "      <td>1.0</td>\n",
       "      <td>230.110056</td>\n",
       "    </tr>\n",
       "    <tr>\n",
       "      <th>std</th>\n",
       "      <td>13.245498</td>\n",
       "      <td>220.411255</td>\n",
       "      <td>624.592275</td>\n",
       "      <td>0.0</td>\n",
       "      <td>62.326208</td>\n",
       "    </tr>\n",
       "    <tr>\n",
       "      <th>min</th>\n",
       "      <td>613.000000</td>\n",
       "      <td>3747.000000</td>\n",
       "      <td>8243.000000</td>\n",
       "      <td>1.0</td>\n",
       "      <td>83.400000</td>\n",
       "    </tr>\n",
       "    <tr>\n",
       "      <th>25%</th>\n",
       "      <td>613.000000</td>\n",
       "      <td>3799.500000</td>\n",
       "      <td>8295.500000</td>\n",
       "      <td>1.0</td>\n",
       "      <td>190.000000</td>\n",
       "    </tr>\n",
       "    <tr>\n",
       "      <th>50%</th>\n",
       "      <td>613.000000</td>\n",
       "      <td>3850.000000</td>\n",
       "      <td>8346.000000</td>\n",
       "      <td>1.0</td>\n",
       "      <td>226.300000</td>\n",
       "    </tr>\n",
       "    <tr>\n",
       "      <th>75%</th>\n",
       "      <td>640.000000</td>\n",
       "      <td>4241.500000</td>\n",
       "      <td>9564.500000</td>\n",
       "      <td>1.0</td>\n",
       "      <td>274.900000</td>\n",
       "    </tr>\n",
       "    <tr>\n",
       "      <th>max</th>\n",
       "      <td>640.000000</td>\n",
       "      <td>4293.000000</td>\n",
       "      <td>9616.000000</td>\n",
       "      <td>1.0</td>\n",
       "      <td>442.200000</td>\n",
       "    </tr>\n",
       "  </tbody>\n",
       "</table>\n",
       "</div>"
      ],
      "text/plain": [
       "       customer_id      level_0        index  tank_type_id      volume\n",
       "count   179.000000   179.000000   179.000000         179.0  179.000000\n",
       "mean    623.709497  3986.173184  8810.201117           1.0  230.110056\n",
       "std      13.245498   220.411255   624.592275           0.0   62.326208\n",
       "min     613.000000  3747.000000  8243.000000           1.0   83.400000\n",
       "25%     613.000000  3799.500000  8295.500000           1.0  190.000000\n",
       "50%     613.000000  3850.000000  8346.000000           1.0  226.300000\n",
       "75%     640.000000  4241.500000  9564.500000           1.0  274.900000\n",
       "max     640.000000  4293.000000  9616.000000           1.0  442.200000"
      ]
     },
     "execution_count": 15,
     "metadata": {},
     "output_type": "execute_result"
    }
   ],
   "source": [
    "df_cluster_1.describe()"
   ]
  },
  {
   "cell_type": "code",
   "execution_count": 17,
   "metadata": {},
   "outputs": [
    {
     "data": {
      "text/html": [
       "<div>\n",
       "<style scoped>\n",
       "    .dataframe tbody tr th:only-of-type {\n",
       "        vertical-align: middle;\n",
       "    }\n",
       "\n",
       "    .dataframe tbody tr th {\n",
       "        vertical-align: top;\n",
       "    }\n",
       "\n",
       "    .dataframe thead th {\n",
       "        text-align: right;\n",
       "    }\n",
       "</style>\n",
       "<table border=\"1\" class=\"dataframe\">\n",
       "  <thead>\n",
       "    <tr style=\"text-align: right;\">\n",
       "      <th></th>\n",
       "      <th>customer_id</th>\n",
       "      <th>level_0</th>\n",
       "      <th>index</th>\n",
       "      <th>tank_type_id</th>\n",
       "      <th>volume</th>\n",
       "    </tr>\n",
       "  </thead>\n",
       "  <tbody>\n",
       "    <tr>\n",
       "      <th>count</th>\n",
       "      <td>2804.000000</td>\n",
       "      <td>2804.000000</td>\n",
       "      <td>2804.000000</td>\n",
       "      <td>2804.000000</td>\n",
       "      <td>2804.000000</td>\n",
       "    </tr>\n",
       "    <tr>\n",
       "      <th>mean</th>\n",
       "      <td>823.769615</td>\n",
       "      <td>7304.514979</td>\n",
       "      <td>15995.823823</td>\n",
       "      <td>1.380171</td>\n",
       "      <td>209.029815</td>\n",
       "    </tr>\n",
       "    <tr>\n",
       "      <th>std</th>\n",
       "      <td>169.907823</td>\n",
       "      <td>3939.909406</td>\n",
       "      <td>8476.211905</td>\n",
       "      <td>0.784877</td>\n",
       "      <td>72.085156</td>\n",
       "    </tr>\n",
       "    <tr>\n",
       "      <th>min</th>\n",
       "      <td>601.000000</td>\n",
       "      <td>55.000000</td>\n",
       "      <td>430.000000</td>\n",
       "      <td>1.000000</td>\n",
       "      <td>16.600000</td>\n",
       "    </tr>\n",
       "    <tr>\n",
       "      <th>25%</th>\n",
       "      <td>658.000000</td>\n",
       "      <td>4152.750000</td>\n",
       "      <td>8726.750000</td>\n",
       "      <td>1.000000</td>\n",
       "      <td>157.750000</td>\n",
       "    </tr>\n",
       "    <tr>\n",
       "      <th>50%</th>\n",
       "      <td>770.000000</td>\n",
       "      <td>6904.500000</td>\n",
       "      <td>16007.500000</td>\n",
       "      <td>1.000000</td>\n",
       "      <td>206.600000</td>\n",
       "    </tr>\n",
       "    <tr>\n",
       "      <th>75%</th>\n",
       "      <td>1013.000000</td>\n",
       "      <td>10455.250000</td>\n",
       "      <td>22293.250000</td>\n",
       "      <td>1.000000</td>\n",
       "      <td>255.500000</td>\n",
       "    </tr>\n",
       "    <tr>\n",
       "      <th>max</th>\n",
       "      <td>1097.000000</td>\n",
       "      <td>13545.000000</td>\n",
       "      <td>28963.000000</td>\n",
       "      <td>3.000000</td>\n",
       "      <td>499.300000</td>\n",
       "    </tr>\n",
       "  </tbody>\n",
       "</table>\n",
       "</div>"
      ],
      "text/plain": [
       "       customer_id       level_0         index  tank_type_id       volume\n",
       "count  2804.000000   2804.000000   2804.000000   2804.000000  2804.000000\n",
       "mean    823.769615   7304.514979  15995.823823      1.380171   209.029815\n",
       "std     169.907823   3939.909406   8476.211905      0.784877    72.085156\n",
       "min     601.000000     55.000000    430.000000      1.000000    16.600000\n",
       "25%     658.000000   4152.750000   8726.750000      1.000000   157.750000\n",
       "50%     770.000000   6904.500000  16007.500000      1.000000   206.600000\n",
       "75%    1013.000000  10455.250000  22293.250000      1.000000   255.500000\n",
       "max    1097.000000  13545.000000  28963.000000      3.000000   499.300000"
      ]
     },
     "execution_count": 17,
     "metadata": {},
     "output_type": "execute_result"
    }
   ],
   "source": [
    "df_cluster_2.describe()"
   ]
  },
  {
   "cell_type": "code",
   "execution_count": 16,
   "metadata": {},
   "outputs": [
    {
     "data": {
      "text/plain": [
       "2     67\n",
       "3     13\n",
       "4      5\n",
       "5      3\n",
       "6      2\n",
       "1      2\n",
       "7      2\n",
       "10     1\n",
       "8      1\n",
       "9      1\n",
       "Name: Cluster, dtype: int64"
      ]
     },
     "execution_count": 16,
     "metadata": {},
     "output_type": "execute_result"
    }
   ],
   "source": [
    "item_counts"
   ]
  },
  {
   "cell_type": "code",
   "execution_count": 19,
   "metadata": {},
   "outputs": [],
   "source": [
    "df_cc = pd.read_csv(\"./ClusteringProgram/ClusterData_cc/cc.csv\")\n",
    "df_cc_time = pd.read_csv(\"./ClusteringProgram/ClusterData_cc/cc_time.csv\")"
   ]
  },
  {
   "cell_type": "code",
   "execution_count": 22,
   "metadata": {},
   "outputs": [],
   "source": [
    "def cc_describe(id_list, df_cc):\n",
    "    s = pd.Series([])\n",
    "    for i in id_list:\n",
    "        s = pd.concat([s, df_cc[str(i)]], ignore_index=True)\n",
    "    return s"
   ]
  },
  {
   "cell_type": "code",
   "execution_count": 23,
   "metadata": {},
   "outputs": [],
   "source": [
    "def cc_plot(id,df_cc_time, df_cc, limy = [0, 1]):\n",
    "    x = []\n",
    "    y = []\n",
    "    for i in df_cc_time[str(id)]:\n",
    "        if not np.isnan(i):\n",
    "            x.append(str(int(i)))\n",
    "    for j in df_cc[str(id)]:\n",
    "        if not np.isnan(j):\n",
    "            y.append(j)\n",
    "    plt.scatter(x, y, color=\"#d62728\", marker='s')\n",
    "    plt.plot(x, y, color=\"#2ca02c\")\n",
    "    plt.ylabel(\"相関係数(気温と給油量)\",fontsize=15, fontname=\"MS Gothic\")\n",
    "    plt.xlabel(\"シーズン\", fontsize=15, fontname=\"MS Gothic\")\n",
    "    plt.ylim(limy)\n"
   ]
  },
  {
   "cell_type": "code",
   "execution_count": 24,
   "metadata": {},
   "outputs": [],
   "source": [
    "plt.rcParams['figure.figsize'] = [10, 5]"
   ]
  },
  {
   "cell_type": "code",
   "execution_count": 26,
   "metadata": {},
   "outputs": [
    {
     "data": {
      "text/html": [
       "<div>\n",
       "<style scoped>\n",
       "    .dataframe tbody tr th:only-of-type {\n",
       "        vertical-align: middle;\n",
       "    }\n",
       "\n",
       "    .dataframe tbody tr th {\n",
       "        vertical-align: top;\n",
       "    }\n",
       "\n",
       "    .dataframe thead th {\n",
       "        text-align: right;\n",
       "    }\n",
       "</style>\n",
       "<table border=\"1\" class=\"dataframe\">\n",
       "  <thead>\n",
       "    <tr style=\"text-align: right;\">\n",
       "      <th></th>\n",
       "      <th>customer_id</th>\n",
       "      <th>level_0</th>\n",
       "      <th>index</th>\n",
       "      <th>tank_type_id</th>\n",
       "      <th>supplied_at</th>\n",
       "      <th>volume</th>\n",
       "      <th>purpose</th>\n",
       "    </tr>\n",
       "  </thead>\n",
       "  <tbody>\n",
       "    <tr>\n",
       "      <th>0</th>\n",
       "      <td>637</td>\n",
       "      <td>55</td>\n",
       "      <td>430</td>\n",
       "      <td>1</td>\n",
       "      <td>2016-11-07 06:53:00</td>\n",
       "      <td>302.7</td>\n",
       "      <td>NaN</td>\n",
       "    </tr>\n",
       "    <tr>\n",
       "      <th>1</th>\n",
       "      <td>637</td>\n",
       "      <td>56</td>\n",
       "      <td>431</td>\n",
       "      <td>1</td>\n",
       "      <td>2016-11-15 06:52:00</td>\n",
       "      <td>226.2</td>\n",
       "      <td>NaN</td>\n",
       "    </tr>\n",
       "    <tr>\n",
       "      <th>2</th>\n",
       "      <td>637</td>\n",
       "      <td>57</td>\n",
       "      <td>432</td>\n",
       "      <td>1</td>\n",
       "      <td>2016-11-21 05:38:00</td>\n",
       "      <td>187.3</td>\n",
       "      <td>NaN</td>\n",
       "    </tr>\n",
       "    <tr>\n",
       "      <th>3</th>\n",
       "      <td>637</td>\n",
       "      <td>58</td>\n",
       "      <td>433</td>\n",
       "      <td>1</td>\n",
       "      <td>2016-11-28 06:59:00</td>\n",
       "      <td>273.5</td>\n",
       "      <td>NaN</td>\n",
       "    </tr>\n",
       "    <tr>\n",
       "      <th>4</th>\n",
       "      <td>637</td>\n",
       "      <td>59</td>\n",
       "      <td>434</td>\n",
       "      <td>1</td>\n",
       "      <td>2016-12-05 07:07:00</td>\n",
       "      <td>222.0</td>\n",
       "      <td>NaN</td>\n",
       "    </tr>\n",
       "  </tbody>\n",
       "</table>\n",
       "</div>"
      ],
      "text/plain": [
       "   customer_id  level_0  index  tank_type_id         supplied_at  volume  \\\n",
       "0          637       55    430             1 2016-11-07 06:53:00   302.7   \n",
       "1          637       56    431             1 2016-11-15 06:52:00   226.2   \n",
       "2          637       57    432             1 2016-11-21 05:38:00   187.3   \n",
       "3          637       58    433             1 2016-11-28 06:59:00   273.5   \n",
       "4          637       59    434             1 2016-12-05 07:07:00   222.0   \n",
       "\n",
       "  purpose  \n",
       "0     NaN  \n",
       "1     NaN  \n",
       "2     NaN  \n",
       "3     NaN  \n",
       "4     NaN  "
      ]
     },
     "execution_count": 26,
     "metadata": {},
     "output_type": "execute_result"
    }
   ],
   "source": [
    "df_cluster_2.head()"
   ]
  },
  {
   "cell_type": "code",
   "execution_count": 27,
   "metadata": {},
   "outputs": [
    {
     "name": "stderr",
     "output_type": "stream",
     "text": [
      "C:\\Users\\zhaobang\\AppData\\Local\\Temp/ipykernel_17604/703776907.py:2: DeprecationWarning: The default dtype for empty Series will be 'object' instead of 'float64' in a future version. Specify a dtype explicitly to silence this warning.\n",
      "  s = pd.Series([])\n"
     ]
    },
    {
     "data": {
      "text/plain": [
       "count    11859.000000\n",
       "mean         0.883084\n",
       "std          0.089216\n",
       "min          0.405635\n",
       "25%          0.838412\n",
       "50%          0.916742\n",
       "75%          0.951191\n",
       "max          1.000000\n",
       "dtype: float64"
      ]
     },
     "execution_count": 27,
     "metadata": {},
     "output_type": "execute_result"
    }
   ],
   "source": [
    "cc_describe(df_cluster_2[\"customer_id\"], df_cc).describe()"
   ]
  },
  {
   "cell_type": "code",
   "execution_count": 28,
   "metadata": {},
   "outputs": [
    {
     "data": {
      "text/html": [
       "<div>\n",
       "<style scoped>\n",
       "    .dataframe tbody tr th:only-of-type {\n",
       "        vertical-align: middle;\n",
       "    }\n",
       "\n",
       "    .dataframe tbody tr th {\n",
       "        vertical-align: top;\n",
       "    }\n",
       "\n",
       "    .dataframe thead th {\n",
       "        text-align: right;\n",
       "    }\n",
       "</style>\n",
       "<table border=\"1\" class=\"dataframe\">\n",
       "  <thead>\n",
       "    <tr style=\"text-align: right;\">\n",
       "      <th></th>\n",
       "      <th>customer_id</th>\n",
       "      <th>level_0</th>\n",
       "      <th>index</th>\n",
       "      <th>tank_type_id</th>\n",
       "      <th>supplied_at</th>\n",
       "      <th>volume</th>\n",
       "      <th>purpose</th>\n",
       "    </tr>\n",
       "  </thead>\n",
       "  <tbody>\n",
       "    <tr>\n",
       "      <th>0</th>\n",
       "      <td>637</td>\n",
       "      <td>55</td>\n",
       "      <td>430</td>\n",
       "      <td>1</td>\n",
       "      <td>2016-11-07 06:53:00</td>\n",
       "      <td>302.7</td>\n",
       "      <td>NaN</td>\n",
       "    </tr>\n",
       "    <tr>\n",
       "      <th>1</th>\n",
       "      <td>637</td>\n",
       "      <td>56</td>\n",
       "      <td>431</td>\n",
       "      <td>1</td>\n",
       "      <td>2016-11-15 06:52:00</td>\n",
       "      <td>226.2</td>\n",
       "      <td>NaN</td>\n",
       "    </tr>\n",
       "    <tr>\n",
       "      <th>2</th>\n",
       "      <td>637</td>\n",
       "      <td>57</td>\n",
       "      <td>432</td>\n",
       "      <td>1</td>\n",
       "      <td>2016-11-21 05:38:00</td>\n",
       "      <td>187.3</td>\n",
       "      <td>NaN</td>\n",
       "    </tr>\n",
       "    <tr>\n",
       "      <th>3</th>\n",
       "      <td>637</td>\n",
       "      <td>58</td>\n",
       "      <td>433</td>\n",
       "      <td>1</td>\n",
       "      <td>2016-11-28 06:59:00</td>\n",
       "      <td>273.5</td>\n",
       "      <td>NaN</td>\n",
       "    </tr>\n",
       "    <tr>\n",
       "      <th>4</th>\n",
       "      <td>637</td>\n",
       "      <td>59</td>\n",
       "      <td>434</td>\n",
       "      <td>1</td>\n",
       "      <td>2016-12-05 07:07:00</td>\n",
       "      <td>222.0</td>\n",
       "      <td>NaN</td>\n",
       "    </tr>\n",
       "  </tbody>\n",
       "</table>\n",
       "</div>"
      ],
      "text/plain": [
       "   customer_id  level_0  index  tank_type_id         supplied_at  volume  \\\n",
       "0          637       55    430             1 2016-11-07 06:53:00   302.7   \n",
       "1          637       56    431             1 2016-11-15 06:52:00   226.2   \n",
       "2          637       57    432             1 2016-11-21 05:38:00   187.3   \n",
       "3          637       58    433             1 2016-11-28 06:59:00   273.5   \n",
       "4          637       59    434             1 2016-12-05 07:07:00   222.0   \n",
       "\n",
       "  purpose  \n",
       "0     NaN  \n",
       "1     NaN  \n",
       "2     NaN  \n",
       "3     NaN  \n",
       "4     NaN  "
      ]
     },
     "execution_count": 28,
     "metadata": {},
     "output_type": "execute_result"
    }
   ],
   "source": [
    "df_cluster_2.head()"
   ]
  },
  {
   "cell_type": "code",
   "execution_count": 31,
   "metadata": {},
   "outputs": [],
   "source": [
    "def save_cluster(cluster, name):\n",
    "    cluster.pop(\"level_0\")\n",
    "    cluster.pop(\"index\")\n",
    "    cluster.to_csv(\"./ClusteringProgram/Hierarchical_data_cc/\" + name + \".csv\", index=False)"
   ]
  },
  {
   "cell_type": "code",
   "execution_count": 32,
   "metadata": {},
   "outputs": [],
   "source": [
    "\n",
    "save_cluster(df_cluster_2, \"cluster_2\")\n"
   ]
  },
  {
   "cell_type": "code",
   "execution_count": null,
   "metadata": {},
   "outputs": [],
   "source": []
  }
 ],
 "metadata": {
  "interpreter": {
   "hash": "e3e0e03fb26a205da183a6cc7aec6e944824ad73d44d06969181625c7511a576"
  },
  "kernelspec": {
   "display_name": "Python 3.8.10 64-bit",
   "language": "python",
   "name": "python3"
  },
  "language_info": {
   "codemirror_mode": {
    "name": "ipython",
    "version": 3
   },
   "file_extension": ".py",
   "mimetype": "text/x-python",
   "name": "python",
   "nbconvert_exporter": "python",
   "pygments_lexer": "ipython3",
   "version": "3.8.10"
  },
  "orig_nbformat": 4
 },
 "nbformat": 4,
 "nbformat_minor": 2
}
