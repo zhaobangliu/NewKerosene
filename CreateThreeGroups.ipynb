{
 "cells": [
  {
   "cell_type": "code",
   "execution_count": 1,
   "metadata": {},
   "outputs": [],
   "source": [
    "from modules.kerosenePreprocess import Kerosene"
   ]
  },
  {
   "cell_type": "code",
   "execution_count": 2,
   "metadata": {},
   "outputs": [
    {
     "name": "stderr",
     "output_type": "stream",
     "text": [
      "c:\\Users\\zhaobang\\AppData\\Local\\Programs\\Python\\Python38\\lib\\site-packages\\pandas\\core\\frame.py:4906: SettingWithCopyWarning: \n",
      "A value is trying to be set on a copy of a slice from a DataFrame\n",
      "\n",
      "See the caveats in the documentation: https://pandas.pydata.org/pandas-docs/stable/user_guide/indexing.html#returning-a-view-versus-a-copy\n",
      "  return super().drop(\n",
      "c:\\Users\\zhaobang\\AppData\\Local\\Programs\\Python\\Python38\\lib\\site-packages\\numpy\\lib\\function_base.py:2683: RuntimeWarning: Degrees of freedom <= 0 for slice\n",
      "  c = cov(x, y, rowvar, dtype=dtype)\n",
      "c:\\Users\\zhaobang\\AppData\\Local\\Programs\\Python\\Python38\\lib\\site-packages\\numpy\\lib\\function_base.py:2542: RuntimeWarning: divide by zero encountered in true_divide\n",
      "  c *= np.true_divide(1, fact)\n",
      "c:\\Users\\zhaobang\\AppData\\Local\\Programs\\Python\\Python38\\lib\\site-packages\\numpy\\lib\\function_base.py:2542: RuntimeWarning: invalid value encountered in multiply\n",
      "  c *= np.true_divide(1, fact)\n"
     ]
    }
   ],
   "source": [
    "kerosene = Kerosene(\"./raw_data/2-supply-histories-with-sensor.csv\")\n",
    "# some special id to drop. Apporo dont need this\n",
    "kerosene.normal_use.set_index(\"customer_id\", inplace=True)\n",
    "kerosene.normal_use.drop([666, 663, 650, 1086], inplace=True)\n",
    "kerosene.normal_use.reset_index(inplace=True)\n",
    "\n",
    "# Only use temperature data here\n",
    "kerosene.threeGroups(\"./raw_data/merged_weatherdata_20220725.csv\")"
   ]
  },
  {
   "cell_type": "code",
   "execution_count": 3,
   "metadata": {},
   "outputs": [],
   "source": [
    "df_normaluse = kerosene.normal_use_drop.copy()\n",
    "\n",
    "df_normaluse.set_index(\"customer_id\", inplace=True)\n",
    "Highcc_df = df_normaluse.loc[list(kerosene.Highcc.keys())]\n",
    "Lowcc_df = df_normaluse.loc[list(kerosene.Lowcc.keys())]\n",
    "HighccOneseason = kerosene.HighccOneSeason.copy()\n",
    "df_normaluse.reset_index(inplace=True)\n",
    "\n",
    "Highcc_df.reset_index(inplace=True)\n",
    "Lowcc_df.reset_index(inplace=True)"
   ]
  },
  {
   "cell_type": "code",
   "execution_count": 4,
   "metadata": {},
   "outputs": [],
   "source": [
    "Highcc_df.drop(columns=\"index\", inplace=True)\n",
    "Lowcc_df.drop(columns=\"index\", inplace=True)\n",
    "HighccOneseason.drop(columns=\"index\", inplace=True)"
   ]
  },
  {
   "cell_type": "code",
   "execution_count": 5,
   "metadata": {},
   "outputs": [
    {
     "data": {
      "text/plain": [
       "3237"
      ]
     },
     "execution_count": 5,
     "metadata": {},
     "output_type": "execute_result"
    }
   ],
   "source": [
    "len(Highcc_df)"
   ]
  },
  {
   "cell_type": "code",
   "execution_count": 6,
   "metadata": {},
   "outputs": [
    {
     "data": {
      "text/plain": [
       "2667"
      ]
     },
     "execution_count": 6,
     "metadata": {},
     "output_type": "execute_result"
    }
   ],
   "source": [
    "len(Lowcc_df)"
   ]
  },
  {
   "cell_type": "code",
   "execution_count": 7,
   "metadata": {},
   "outputs": [
    {
     "data": {
      "text/plain": [
       "1308"
      ]
     },
     "execution_count": 7,
     "metadata": {},
     "output_type": "execute_result"
    }
   ],
   "source": [
    "len(HighccOneseason)"
   ]
  },
  {
   "cell_type": "code",
   "execution_count": 16,
   "metadata": {},
   "outputs": [],
   "source": [
    "Highcc_df.to_csv(\"./threeGroupsData/Highcc.csv\", index=False)\n",
    "Lowcc_df.to_csv(\"./threeGroupsData/Lowcc.csv\", index=False)\n",
    "HighccOneseason.to_csv(\"./threeGroupsData/HighccOneseason.csv\", index=False)"
   ]
  },
  {
   "cell_type": "code",
   "execution_count": null,
   "metadata": {},
   "outputs": [],
   "source": []
  }
 ],
 "metadata": {
  "interpreter": {
   "hash": "e3e0e03fb26a205da183a6cc7aec6e944824ad73d44d06969181625c7511a576"
  },
  "kernelspec": {
   "display_name": "Python 3.8.10 64-bit",
   "language": "python",
   "name": "python3"
  },
  "language_info": {
   "codemirror_mode": {
    "name": "ipython",
    "version": 3
   },
   "file_extension": ".py",
   "mimetype": "text/x-python",
   "name": "python",
   "nbconvert_exporter": "python",
   "pygments_lexer": "ipython3",
   "version": "3.8.10"
  },
  "orig_nbformat": 4
 },
 "nbformat": 4,
 "nbformat_minor": 2
}
