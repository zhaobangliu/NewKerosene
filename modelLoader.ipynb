{
 "cells": [
  {
   "cell_type": "code",
   "execution_count": 282,
   "metadata": {},
   "outputs": [
    {
     "name": "stdout",
     "output_type": "stream",
     "text": [
      "2.8.0\n"
     ]
    }
   ],
   "source": [
    "import pathlib\n",
    "\n",
    "import matplotlib.pyplot as plt\n",
    "import japanize_matplotlib\n",
    "import pandas as pd\n",
    "import seaborn as sns\n",
    "\n",
    "import tensorflow as tf\n",
    "\n",
    "from tensorflow import keras\n",
    "from tensorflow.keras import layers\n",
    "import numpy as np\n",
    "\n",
    "from tensorflow.python.client import device_lib\n",
    "\n",
    "from sklearn.metrics import mean_absolute_error\n",
    "from modules import plotformodel as pfm\n",
    "from modules import statistic_function as sf\n",
    "\n",
    "\n",
    "print(tf.__version__)"
   ]
  },
  {
   "cell_type": "code",
   "execution_count": 283,
   "metadata": {},
   "outputs": [],
   "source": [
    "GROUP_NAME = \"highccgroup\"\n",
    "new_model = tf.keras.models.load_model(\"./models/\" + GROUP_NAME + \"/dnn_model_hard_sigmoid\")\n",
    "testb = pd.read_csv(\"./Dataset/\" + GROUP_NAME + \"/testB.csv\")\n",
    "testb_index = pd.read_csv(\"./Dataset/\" + GROUP_NAME + \"/testB_index.csv\")"
   ]
  },
  {
   "cell_type": "code",
   "execution_count": 284,
   "metadata": {},
   "outputs": [],
   "source": [
    "testb[\"atemperature\"] = -testb[\"atemperature\"]\n",
    "testb[\"ltemperature\"] = -testb[\"ltemperature\"]\n",
    "testb[\"htemperature\"] = -testb[\"htemperature\"]"
   ]
  },
  {
   "cell_type": "code",
   "execution_count": 285,
   "metadata": {},
   "outputs": [],
   "source": [
    "test_features = testb.copy()"
   ]
  },
  {
   "cell_type": "code",
   "execution_count": 286,
   "metadata": {},
   "outputs": [
    {
     "data": {
      "text/html": [
       "<div>\n",
       "<style scoped>\n",
       "    .dataframe tbody tr th:only-of-type {\n",
       "        vertical-align: middle;\n",
       "    }\n",
       "\n",
       "    .dataframe tbody tr th {\n",
       "        vertical-align: top;\n",
       "    }\n",
       "\n",
       "    .dataframe thead th {\n",
       "        text-align: right;\n",
       "    }\n",
       "</style>\n",
       "<table border=\"1\" class=\"dataframe\">\n",
       "  <thead>\n",
       "    <tr style=\"text-align: right;\">\n",
       "      <th></th>\n",
       "      <th>atemperature</th>\n",
       "      <th>ltemperature</th>\n",
       "      <th>htemperature</th>\n",
       "      <th>windSpeed(m/s)</th>\n",
       "      <th>sonw(accumulated)</th>\n",
       "      <th>snow</th>\n",
       "      <th>sunshine</th>\n",
       "      <th>humidity(%)</th>\n",
       "      <th>interval</th>\n",
       "      <th>last_year_mean</th>\n",
       "      <th>last_year_sum</th>\n",
       "      <th>price</th>\n",
       "      <th>Year sin</th>\n",
       "      <th>Year cos</th>\n",
       "    </tr>\n",
       "  </thead>\n",
       "  <tbody>\n",
       "    <tr>\n",
       "      <th>0</th>\n",
       "      <td>3.9</td>\n",
       "      <td>8.2</td>\n",
       "      <td>0.9</td>\n",
       "      <td>2.2</td>\n",
       "      <td>55</td>\n",
       "      <td>1</td>\n",
       "      <td>1.1</td>\n",
       "      <td>64</td>\n",
       "      <td>1</td>\n",
       "      <td>34.611465</td>\n",
       "      <td>5434.0</td>\n",
       "      <td>85</td>\n",
       "      <td>0.542898</td>\n",
       "      <td>0.839798</td>\n",
       "    </tr>\n",
       "    <tr>\n",
       "      <th>1</th>\n",
       "      <td>2.1</td>\n",
       "      <td>3.9</td>\n",
       "      <td>-0.9</td>\n",
       "      <td>2.7</td>\n",
       "      <td>55</td>\n",
       "      <td>0</td>\n",
       "      <td>1.8</td>\n",
       "      <td>75</td>\n",
       "      <td>1</td>\n",
       "      <td>34.611465</td>\n",
       "      <td>5434.0</td>\n",
       "      <td>85</td>\n",
       "      <td>0.557264</td>\n",
       "      <td>0.830335</td>\n",
       "    </tr>\n",
       "    <tr>\n",
       "      <th>2</th>\n",
       "      <td>2.0</td>\n",
       "      <td>4.6</td>\n",
       "      <td>0.1</td>\n",
       "      <td>2.5</td>\n",
       "      <td>59</td>\n",
       "      <td>6</td>\n",
       "      <td>0.0</td>\n",
       "      <td>81</td>\n",
       "      <td>1</td>\n",
       "      <td>34.611465</td>\n",
       "      <td>5434.0</td>\n",
       "      <td>85</td>\n",
       "      <td>0.571465</td>\n",
       "      <td>0.820626</td>\n",
       "    </tr>\n",
       "    <tr>\n",
       "      <th>3</th>\n",
       "      <td>4.8</td>\n",
       "      <td>8.2</td>\n",
       "      <td>1.4</td>\n",
       "      <td>2.5</td>\n",
       "      <td>59</td>\n",
       "      <td>0</td>\n",
       "      <td>6.6</td>\n",
       "      <td>67</td>\n",
       "      <td>1</td>\n",
       "      <td>34.611465</td>\n",
       "      <td>5434.0</td>\n",
       "      <td>85</td>\n",
       "      <td>0.585497</td>\n",
       "      <td>0.810675</td>\n",
       "    </tr>\n",
       "    <tr>\n",
       "      <th>4</th>\n",
       "      <td>5.4</td>\n",
       "      <td>11.1</td>\n",
       "      <td>1.5</td>\n",
       "      <td>2.9</td>\n",
       "      <td>58</td>\n",
       "      <td>3</td>\n",
       "      <td>3.8</td>\n",
       "      <td>62</td>\n",
       "      <td>1</td>\n",
       "      <td>34.611465</td>\n",
       "      <td>5434.0</td>\n",
       "      <td>85</td>\n",
       "      <td>0.599356</td>\n",
       "      <td>0.800483</td>\n",
       "    </tr>\n",
       "  </tbody>\n",
       "</table>\n",
       "</div>"
      ],
      "text/plain": [
       "   atemperature  ltemperature  htemperature  windSpeed(m/s)  \\\n",
       "0           3.9           8.2           0.9             2.2   \n",
       "1           2.1           3.9          -0.9             2.7   \n",
       "2           2.0           4.6           0.1             2.5   \n",
       "3           4.8           8.2           1.4             2.5   \n",
       "4           5.4          11.1           1.5             2.9   \n",
       "\n",
       "   sonw(accumulated)  snow  sunshine  humidity(%)  interval  last_year_mean  \\\n",
       "0                 55     1       1.1           64         1       34.611465   \n",
       "1                 55     0       1.8           75         1       34.611465   \n",
       "2                 59     6       0.0           81         1       34.611465   \n",
       "3                 59     0       6.6           67         1       34.611465   \n",
       "4                 58     3       3.8           62         1       34.611465   \n",
       "\n",
       "   last_year_sum  price  Year sin  Year cos  \n",
       "0         5434.0     85  0.542898  0.839798  \n",
       "1         5434.0     85  0.557264  0.830335  \n",
       "2         5434.0     85  0.571465  0.820626  \n",
       "3         5434.0     85  0.585497  0.810675  \n",
       "4         5434.0     85  0.599356  0.800483  "
      ]
     },
     "execution_count": 286,
     "metadata": {},
     "output_type": "execute_result"
    }
   ],
   "source": [
    "test_features.head()"
   ]
  },
  {
   "cell_type": "code",
   "execution_count": 287,
   "metadata": {},
   "outputs": [],
   "source": [
    "test_predictions = new_model.predict(test_features).flatten()"
   ]
  },
  {
   "cell_type": "code",
   "execution_count": 288,
   "metadata": {},
   "outputs": [],
   "source": [
    "prediction_v = []\n",
    "for i in range(len(testb_index)):\n",
    "    volume = 0\n",
    "    for j in range(testb_index.loc[i, \"first_index\"], testb_index.loc[i, \"final_index\"]+1):\n",
    "        volume += test_predictions[j]\n",
    "    prediction_v.append(volume)"
   ]
  },
  {
   "cell_type": "code",
   "execution_count": 289,
   "metadata": {},
   "outputs": [
    {
     "name": "stdout",
     "output_type": "stream",
     "text": [
      "47.44211957496095\n"
     ]
    }
   ],
   "source": [
    "MAE = mean_absolute_error(testb_index[\"volume\"], prediction_v)\n",
    "print(MAE)"
   ]
  },
  {
   "cell_type": "code",
   "execution_count": 290,
   "metadata": {},
   "outputs": [
    {
     "data": {
      "image/png": "[encoded data removed]",
      "text/plain": [
       "<Figure size 576x576 with 1 Axes>"
      ]
     },
     "metadata": {
      "needs_background": "light"
     },
     "output_type": "display_data"
    }
   ],
   "source": [
    "plt.rcParams['figure.figsize'] = [8, 8]\n",
    "\n",
    "a = plt.axes(aspect='equal')\n",
    "plt.scatter(list(testb_index[\"volume\"]), prediction_v)\n",
    "plt.xlabel('True Values [Mean Consumption]',fontsize=16)\n",
    "plt.ylabel('Estimation [Consumption]',fontsize=16)\n",
    "plt.xticks(fontsize=16)\n",
    "plt.yticks(fontsize=16)\n",
    "lims = [0, 1200]\n",
    "plt.xlim(lims)\n",
    "plt.ylim(lims)\n",
    "_ = plt.plot(lims, lims)\n",
    "plt.grid(True)"
   ]
  },
  {
   "cell_type": "code",
   "execution_count": 291,
   "metadata": {},
   "outputs": [],
   "source": [
    "\n",
    "error = (pd.Series(prediction_v) - pd.Series(testb_index[\"volume\"]))/pd.Series(testb_index[\"volume\"])\n"
   ]
  },
  {
   "cell_type": "code",
   "execution_count": 292,
   "metadata": {},
   "outputs": [
    {
     "name": "stdout",
     "output_type": "stream",
     "text": [
      "-0.2~0.2: 0.7096774193548387\n",
      ">0.2: 0.2456575682382134\n",
      "<-0.2: 0.04466501240694789\n"
     ]
    }
   ],
   "source": [
    "sf.error_distribution(error)"
   ]
  },
  {
   "cell_type": "code",
   "execution_count": 293,
   "metadata": {},
   "outputs": [
    {
     "name": "stdout",
     "output_type": "stream",
     "text": [
      "11\n"
     ]
    }
   ],
   "source": [
    "print(\"1\" + str(1))"
   ]
  },
  {
   "cell_type": "code",
   "execution_count": null,
   "metadata": {},
   "outputs": [],
   "source": []
  }
 ],
 "metadata": {
  "interpreter": {
   "hash": "e3e0e03fb26a205da183a6cc7aec6e944824ad73d44d06969181625c7511a576"
  },
  "kernelspec": {
   "display_name": "Python 3.8.10 64-bit",
   "language": "python",
   "name": "python3"
  },
  "language_info": {
   "codemirror_mode": {
    "name": "ipython",
    "version": 3
   },
   "file_extension": ".py",
   "mimetype": "text/x-python",
   "name": "python",
   "nbconvert_exporter": "python",
   "pygments_lexer": "ipython3",
   "version": "3.8.10"
  },
  "orig_nbformat": 4
 },
 "nbformat": 4,
 "nbformat_minor": 2
}
