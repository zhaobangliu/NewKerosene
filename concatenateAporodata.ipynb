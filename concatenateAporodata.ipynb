{
 "cells": [
  {
   "cell_type": "code",
   "execution_count": 2,
   "metadata": {},
   "outputs": [],
   "source": [
    "import pandas as pd\n",
    "import matplotlib.pyplot as plt\n",
    "from modules import Aporodata\n",
    "from modules import kerosenePreprocess as Kerosene\n",
    "from modules import drawing as dr\n",
    "from tqdm import tqdm,trange"
   ]
  },
  {
   "cell_type": "code",
   "execution_count": 3,
   "metadata": {},
   "outputs": [],
   "source": [
    "path = r'.\\raw_data\\アポロ給油データ' # use your path\n",
    "df = Aporodata.readAll(path)\n",
    "df_master = pd.read_csv(\"./raw_data/master.csv\")\n",
    "df_masterpart = df_master.copy()[[\"customer_no\", \"customer_code\",  \"legal_oil_capacity\", \"physical_oil_capacity\", \"tank_x_width\", \"tank_y_depth\", \"tank_z_height\"]]"
   ]
  },
  {
   "cell_type": "code",
   "execution_count": 13,
   "metadata": {},
   "outputs": [],
   "source": [
    "ID_refuel = pd.unique(df[\"顧客番号\"])\n",
    "ID_master = pd.unique(df_masterpart[\"customer_code\"])\n",
    "id_in = []"
   ]
  },
  {
   "cell_type": "code",
   "execution_count": 14,
   "metadata": {},
   "outputs": [
    {
     "data": {
      "text/plain": [
       "2771"
      ]
     },
     "execution_count": 14,
     "metadata": {},
     "output_type": "execute_result"
    }
   ],
   "source": [
    "len(df_masterpart)"
   ]
  },
  {
   "cell_type": "code",
   "execution_count": 15,
   "metadata": {},
   "outputs": [],
   "source": [
    "for id_refuel in ID_refuel:\n",
    "    for id_master in ID_master:\n",
    "        if id_refuel == id_master:\n",
    "            id_in.append(id_refuel)"
   ]
  },
  {
   "cell_type": "code",
   "execution_count": 16,
   "metadata": {},
   "outputs": [
    {
     "data": {
      "text/plain": [
       "2980"
      ]
     },
     "execution_count": 16,
     "metadata": {},
     "output_type": "execute_result"
    }
   ],
   "source": [
    "len(ID_refuel)"
   ]
  },
  {
   "cell_type": "code",
   "execution_count": 17,
   "metadata": {},
   "outputs": [
    {
     "data": {
      "text/plain": [
       "2388"
      ]
     },
     "execution_count": 17,
     "metadata": {},
     "output_type": "execute_result"
    }
   ],
   "source": [
    "len(id_in)"
   ]
  },
  {
   "cell_type": "code",
   "execution_count": 18,
   "metadata": {},
   "outputs": [
    {
     "data": {
      "text/plain": [
       "2694"
      ]
     },
     "execution_count": 18,
     "metadata": {},
     "output_type": "execute_result"
    }
   ],
   "source": [
    "len(ID_master)"
   ]
  },
  {
   "cell_type": "code",
   "execution_count": 19,
   "metadata": {},
   "outputs": [
    {
     "data": {
      "text/html": [
       "<div>\n",
       "<style scoped>\n",
       "    .dataframe tbody tr th:only-of-type {\n",
       "        vertical-align: middle;\n",
       "    }\n",
       "\n",
       "    .dataframe tbody tr th {\n",
       "        vertical-align: top;\n",
       "    }\n",
       "\n",
       "    .dataframe thead th {\n",
       "        text-align: right;\n",
       "    }\n",
       "</style>\n",
       "<table border=\"1\" class=\"dataframe\">\n",
       "  <thead>\n",
       "    <tr style=\"text-align: right;\">\n",
       "      <th></th>\n",
       "      <th>顧客番号</th>\n",
       "      <th>配送日付</th>\n",
       "      <th>配送時間</th>\n",
       "      <th>売上数量</th>\n",
       "    </tr>\n",
       "  </thead>\n",
       "  <tbody>\n",
       "    <tr>\n",
       "      <th>0</th>\n",
       "      <td>7622200.0</td>\n",
       "      <td>2020/9/3</td>\n",
       "      <td>08:54</td>\n",
       "      <td>88.9</td>\n",
       "    </tr>\n",
       "    <tr>\n",
       "      <th>1</th>\n",
       "      <td>3504202.0</td>\n",
       "      <td>2020/9/3</td>\n",
       "      <td>09:14</td>\n",
       "      <td>187.0</td>\n",
       "    </tr>\n",
       "    <tr>\n",
       "      <th>2</th>\n",
       "      <td>7302900.0</td>\n",
       "      <td>2020/9/3</td>\n",
       "      <td>11:40</td>\n",
       "      <td>56.9</td>\n",
       "    </tr>\n",
       "    <tr>\n",
       "      <th>3</th>\n",
       "      <td>7622210.0</td>\n",
       "      <td>2020/9/3</td>\n",
       "      <td>08:56</td>\n",
       "      <td>81.3</td>\n",
       "    </tr>\n",
       "    <tr>\n",
       "      <th>4</th>\n",
       "      <td>7622230.0</td>\n",
       "      <td>2020/9/3</td>\n",
       "      <td>08:48</td>\n",
       "      <td>118.2</td>\n",
       "    </tr>\n",
       "  </tbody>\n",
       "</table>\n",
       "</div>"
      ],
      "text/plain": [
       "        顧客番号      配送日付   配送時間   売上数量\n",
       "0  7622200.0  2020/9/3  08:54   88.9\n",
       "1  3504202.0  2020/9/3  09:14  187.0\n",
       "2  7302900.0  2020/9/3  11:40   56.9\n",
       "3  7622210.0  2020/9/3  08:56   81.3\n",
       "4  7622230.0  2020/9/3  08:48  118.2"
      ]
     },
     "execution_count": 19,
     "metadata": {},
     "output_type": "execute_result"
    }
   ],
   "source": [
    "df.head()"
   ]
  },
  {
   "cell_type": "code",
   "execution_count": 20,
   "metadata": {},
   "outputs": [],
   "source": [
    "df = df[df[\"顧客番号\"].isin(id_in)]\n",
    "df.reset_index(inplace=True, drop=True)"
   ]
  },
  {
   "cell_type": "code",
   "execution_count": 21,
   "metadata": {},
   "outputs": [],
   "source": [
    "df_new = pd.DataFrame()\n",
    "df_new[\"customer_id\"] = df[\"顧客番号\"]\n",
    "df_new[\"supplied_at\"] = df[\"配送日付\"] + \"/\" + df[\"配送時間\"]\n",
    "df_new[\"volume\"] = df[\"売上数量\"]\n",
    "df_new[\"supplied_at\"] = pd.to_datetime(df_new[\"supplied_at\"], format=\"%Y/%m/%d/%H:%M\")\n",
    "df_new.sort_values(by=['customer_id', 'supplied_at'], inplace=True)\n",
    "df_new.reset_index(inplace=True, drop=True)\n"
   ]
  },
  {
   "cell_type": "code",
   "execution_count": 22,
   "metadata": {},
   "outputs": [
    {
     "data": {
      "text/plain": [
       "0    101.0\n",
       "1    101.0\n",
       "2    101.0\n",
       "3    101.0\n",
       "4    101.0\n",
       "Name: customer_id, dtype: float64"
      ]
     },
     "execution_count": 22,
     "metadata": {},
     "output_type": "execute_result"
    }
   ],
   "source": [
    "df_new[\"customer_id\"].head()"
   ]
  },
  {
   "cell_type": "code",
   "execution_count": 23,
   "metadata": {},
   "outputs": [
    {
     "name": "stderr",
     "output_type": "stream",
     "text": [
      "Adding tanksize: 100%|██████████| 2388/2388 [01:57<00:00, 20.40it/s]\n"
     ]
    }
   ],
   "source": [
    "df_new[\"size\"] = \"\"\n",
    "for i in tqdm(id_in, desc='Adding tanksize'):\n",
    "    df_id = df_new[df_new[\"customer_id\"]==i]\n",
    "    for j in range(len(df_masterpart)):\n",
    "        if df_id.loc[df_id.index[0], \"customer_id\"] == df_masterpart.loc[j, \"customer_code\"]:\n",
    "            for i in df_id.index:\n",
    "                df_new.loc[i, \"size\"] = df_masterpart.loc[j, \"legal_oil_capacity\"]"
   ]
  },
  {
   "cell_type": "code",
   "execution_count": 99,
   "metadata": {},
   "outputs": [
    {
     "data": {
      "text/plain": [
       "38260"
      ]
     },
     "execution_count": 99,
     "metadata": {},
     "output_type": "execute_result"
    }
   ],
   "source": [
    "len(df_new)"
   ]
  },
  {
   "cell_type": "code",
   "execution_count": 27,
   "metadata": {},
   "outputs": [],
   "source": [
    "unique_id = pd.unique(df_new[\"customer_id\"])"
   ]
  },
  {
   "cell_type": "code",
   "execution_count": 54,
   "metadata": {},
   "outputs": [],
   "source": [
    "tanksize = []\n",
    "for i in unique_id:\n",
    "    df_id = df_new[df_new[\"customer_id\"]==i]\n",
    "    df_id.reset_index(inplace=True)\n",
    "    tanksize.append(df_id.loc[0, \"size\"])"
   ]
  },
  {
   "cell_type": "code",
   "execution_count": 65,
   "metadata": {},
   "outputs": [],
   "source": [
    "tanksize = pd.Series(tanksize)\n",
    "tanksize_unique = tanksize.value_counts()"
   ]
  },
  {
   "cell_type": "code",
   "execution_count": 81,
   "metadata": {},
   "outputs": [],
   "source": [
    "tanksize_unique_sorted = tanksize_unique.sort_index()"
   ]
  },
  {
   "cell_type": "code",
   "execution_count": 87,
   "metadata": {},
   "outputs": [
    {
     "data": {
      "text/plain": [
       "15"
      ]
     },
     "execution_count": 87,
     "metadata": {},
     "output_type": "execute_result"
    }
   ],
   "source": [
    "len(tanksize_unique_sorted.index)"
   ]
  },
  {
   "cell_type": "code",
   "execution_count": 90,
   "metadata": {},
   "outputs": [],
   "source": [
    "tsubaki_df = pd.read_csv(\"./raw_data/2-supply-histories-with-sensor.csv\")\n",
    "tsubaki_df[\"supplied_at\"] = pd.to_datetime(tsubaki_df[\"supplied_at\"], format=\"%Y-%m-%d %X\")"
   ]
  },
  {
   "cell_type": "code",
   "execution_count": 86,
   "metadata": {},
   "outputs": [
    {
     "data": {
      "text/plain": [
       "Text(0, 0.5, 'ID数')"
      ]
     },
     "execution_count": 86,
     "metadata": {},
     "output_type": "execute_result"
    },
    {
     "data": {
      "image/png": "[encoded data removed]",
      "text/plain": [
       "<Figure size 576x432 with 1 Axes>"
      ]
     },
     "metadata": {
      "needs_background": "light"
     },
     "output_type": "display_data"
    }
   ],
   "source": [
    "ticks = [\"80\", \"133\", \"198\", \"220\", \"223\", \"224\", \"225\", \"400\", \"405\", \"446\", \"450\", \"492\", \"494\",\n",
    "            \"904\", \"942\"]\n",
    "plt.rcParams['figure.figsize'] = [8, 6]\n",
    "plt.bar(ticks, tanksize_unique_sorted)\n",
    "plt.xlabel(\"タンク容量\", fontname=\"MS Gothic\",  fontsize=15)\n",
    "plt.ylabel(\"顧客数\", fontname=\"MS Gothic\",  fontsize=15)\n",
    "\n"
   ]
  },
  {
   "cell_type": "code",
   "execution_count": 73,
   "metadata": {},
   "outputs": [],
   "source": [
    "df_new.to_csv(\"./Appolo/appolo.csv\", index = False)"
   ]
  },
  {
   "cell_type": "code",
   "execution_count": 46,
   "metadata": {},
   "outputs": [],
   "source": [
    "interval = []\n",
    "\n",
    "for i in range(1, df_new.shape[0]):\n",
    "    if df_new.loc[i, \"customer_id\"] != df_new.loc[i - 1, \"customer_id\"]:\n",
    "        interval.append(\"NaN\")\n",
    "    else:\n",
    "        interval.append((df_new.loc[i, \"supplied_at\"] - df_new.loc[i - 1, \"supplied_at\"]).days)\n",
    "\n",
    "interval = pd.Series(interval)\n",
    "interval_count = interval.value_counts()\n",
    "id_count = []"
   ]
  },
  {
   "cell_type": "code",
   "execution_count": 60,
   "metadata": {},
   "outputs": [
    {
     "data": {
      "text/plain": [
       "NaN    2387\n",
       "14     1648\n",
       "30     1611\n",
       "29     1536\n",
       "28     1294\n",
       "       ... \n",
       "272       1\n",
       "324       1\n",
       "409       1\n",
       "386       1\n",
       "491       1\n",
       "Length: 340, dtype: int64"
      ]
     },
     "execution_count": 60,
     "metadata": {},
     "output_type": "execute_result"
    }
   ],
   "source": [
    "interval_count"
   ]
  },
  {
   "cell_type": "code",
   "execution_count": 62,
   "metadata": {},
   "outputs": [],
   "source": [
    "interval_count.drop([\"NaN\"], inplace=True)"
   ]
  },
  {
   "cell_type": "code",
   "execution_count": 67,
   "metadata": {},
   "outputs": [],
   "source": [
    "processed_interval = interval_count[interval_count.index<100]"
   ]
  },
  {
   "cell_type": "code",
   "execution_count": 68,
   "metadata": {},
   "outputs": [
    {
     "data": {
      "text/plain": [
       "14    1648\n",
       "30    1611\n",
       "29    1536\n",
       "28    1294\n",
       "31    1294\n",
       "      ... \n",
       "86       8\n",
       "82       7\n",
       "96       7\n",
       "85       6\n",
       "87       6\n",
       "Length: 100, dtype: int64"
      ]
     },
     "execution_count": 68,
     "metadata": {},
     "output_type": "execute_result"
    }
   ],
   "source": [
    "processed_interval"
   ]
  },
  {
   "cell_type": "code",
   "execution_count": 71,
   "metadata": {},
   "outputs": [
    {
     "data": {
      "text/plain": [
       "Text(0, 0.5, '件数')"
      ]
     },
     "execution_count": 71,
     "metadata": {},
     "output_type": "execute_result"
    },
    {
     "data": {
      "image/png": "[encoded data removed]",
      "text/plain": [
       "<Figure size 576x432 with 1 Axes>"
      ]
     },
     "metadata": {
      "needs_background": "light"
     },
     "output_type": "display_data"
    }
   ],
   "source": [
    "plt.rcParams['figure.figsize'] = [8, 6]\n",
    "plt.bar(processed_interval.index, processed_interval)\n",
    "plt.xlabel(\"Interval\", fontname=\"MS Gothic\",  fontsize=15)\n",
    "plt.ylabel(\"件数\", fontname=\"MS Gothic\",  fontsize=15)"
   ]
  },
  {
   "cell_type": "code",
   "execution_count": null,
   "metadata": {},
   "outputs": [
    {
     "data": {
      "image/png": "[encoded data removed]",
      "text/plain": [
       "<Figure size 576x360 with 1 Axes>"
      ]
     },
     "metadata": {
      "needs_background": "light"
     },
     "output_type": "display_data"
    }
   ],
   "source": [
    "dr.draw_interval_distribution(df_new, \"顧客番号\", \"給油時間\")"
   ]
  },
  {
   "cell_type": "code",
   "execution_count": null,
   "metadata": {},
   "outputs": [],
   "source": []
  }
 ],
 "metadata": {
  "kernelspec": {
   "display_name": "Python 3.8.10 64-bit",
   "language": "python",
   "name": "python3"
  },
  "language_info": {
   "codemirror_mode": {
    "name": "ipython",
    "version": 3
   },
   "file_extension": ".py",
   "mimetype": "text/x-python",
   "name": "python",
   "nbconvert_exporter": "python",
   "pygments_lexer": "ipython3",
   "version": "3.8.10"
  },
  "orig_nbformat": 4,
  "vscode": {
   "interpreter": {
    "hash": "e3e0e03fb26a205da183a6cc7aec6e944824ad73d44d06969181625c7511a576"
   }
  }
 },
 "nbformat": 4,
 "nbformat_minor": 2
}
